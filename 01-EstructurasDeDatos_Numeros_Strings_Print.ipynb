{
 "cells": [
  {
   "cell_type": "markdown",
   "id": "bcddb344",
   "metadata": {},
   "source": [
    "### Variables"
   ]
  },
  {
   "cell_type": "markdown",
   "id": "acabcea4",
   "metadata": {},
   "source": [
    "Hay una serie de reglas para nombrar variables:\n",
    "1. No empezar por números\n",
    "2. No se pueden usar símbolos especiales como: '\".,<>/?|()!@#$~%¬-+\n",
    "3. Siempre se considera mejor que se usan las variables en minúsculas\n",
    "4. Evitar usar los caracteres 'I', 'O' o 'l'\n",
    "5. Evitar usar palabras con significado especial en Python como list o str"
   ]
  },
  {
   "cell_type": "markdown",
   "id": "bff239f6",
   "metadata": {},
   "source": [
    "### Números"
   ]
  },
  {
   "cell_type": "markdown",
   "id": "5df14486",
   "metadata": {},
   "source": [
    "Python tiene varios tipos de números, principalmente dos: **enteros o integers** (números positivos o negativos, enteros) y **floating points** (números con decimales). También los exponenciales como 4E2."
   ]
  },
  {
   "cell_type": "code",
   "execution_count": 1,
   "id": "d39cbbcd",
   "metadata": {},
   "outputs": [
    {
     "data": {
      "text/plain": [
       "4"
      ]
     },
     "execution_count": 1,
     "metadata": {},
     "output_type": "execute_result"
    }
   ],
   "source": [
    "# Suma\n",
    "1+3"
   ]
  },
  {
   "cell_type": "code",
   "execution_count": 3,
   "id": "bec2ff11",
   "metadata": {},
   "outputs": [
    {
     "data": {
      "text/plain": [
       "1"
      ]
     },
     "execution_count": 3,
     "metadata": {},
     "output_type": "execute_result"
    }
   ],
   "source": [
    "# Resta\n",
    "2-1"
   ]
  },
  {
   "cell_type": "code",
   "execution_count": 5,
   "id": "07c8613d",
   "metadata": {},
   "outputs": [
    {
     "data": {
      "text/plain": [
       "10"
      ]
     },
     "execution_count": 5,
     "metadata": {},
     "output_type": "execute_result"
    }
   ],
   "source": [
    "# Multiplicación\n",
    "2*5"
   ]
  },
  {
   "cell_type": "code",
   "execution_count": 7,
   "id": "7cb1b90b",
   "metadata": {},
   "outputs": [
    {
     "data": {
      "text/plain": [
       "1.5"
      ]
     },
     "execution_count": 7,
     "metadata": {},
     "output_type": "execute_result"
    }
   ],
   "source": [
    "# Division\n",
    "3/2"
   ]
  },
  {
   "cell_type": "code",
   "execution_count": 9,
   "id": "291a44b1",
   "metadata": {
    "scrolled": true
   },
   "outputs": [
    {
     "data": {
      "text/plain": [
       "1"
      ]
     },
     "execution_count": 9,
     "metadata": {},
     "output_type": "execute_result"
    }
   ],
   "source": [
    "# Floor o división de piso (// trunca el resultado sin redondear y nos da el número entero)\n",
    "3//2"
   ]
  },
  {
   "cell_type": "code",
   "execution_count": 11,
   "id": "dffd326b",
   "metadata": {},
   "outputs": [
    {
     "data": {
      "text/plain": [
       "1"
      ]
     },
     "execution_count": 11,
     "metadata": {},
     "output_type": "execute_result"
    }
   ],
   "source": [
    "# Módulo (nos da el resto)\n",
    "# Para saber si un número es par o impar podemos usar el módulo: si el resultado nos da 0, estaremos hablando de un número par, mientras que si\n",
    "# el resultado es 1 el número será impar\n",
    "3%2"
   ]
  },
  {
   "cell_type": "code",
   "execution_count": 13,
   "id": "0884043f",
   "metadata": {},
   "outputs": [
    {
     "data": {
      "text/plain": [
       "8"
      ]
     },
     "execution_count": 13,
     "metadata": {},
     "output_type": "execute_result"
    }
   ],
   "source": [
    "# Potencia\n",
    "2**3"
   ]
  },
  {
   "cell_type": "code",
   "execution_count": 15,
   "id": "0b145478",
   "metadata": {
    "scrolled": true
   },
   "outputs": [
    {
     "data": {
      "text/plain": [
       "2.0"
      ]
     },
     "execution_count": 15,
     "metadata": {},
     "output_type": "execute_result"
    }
   ],
   "source": [
    "# Raíces (como la potencia al revés)\n",
    "4**0.5"
   ]
  },
  {
   "cell_type": "code",
   "execution_count": 17,
   "id": "dec14020",
   "metadata": {},
   "outputs": [
    {
     "data": {
      "text/plain": [
       "2.0"
      ]
     },
     "execution_count": 17,
     "metadata": {},
     "output_type": "execute_result"
    }
   ],
   "source": [
    "4**(1/2)"
   ]
  },
  {
   "cell_type": "code",
   "execution_count": 19,
   "id": "68658bed",
   "metadata": {},
   "outputs": [
    {
     "data": {
      "text/plain": [
       "106"
      ]
     },
     "execution_count": 19,
     "metadata": {},
     "output_type": "execute_result"
    }
   ],
   "source": [
    "# Orden de operaciones en Python\n",
    "1+10*10+5"
   ]
  },
  {
   "cell_type": "code",
   "execution_count": 21,
   "id": "e121c094",
   "metadata": {},
   "outputs": [
    {
     "data": {
      "text/plain": [
       "165"
      ]
     },
     "execution_count": 21,
     "metadata": {},
     "output_type": "execute_result"
    }
   ],
   "source": [
    "(1+10)*(10+5)"
   ]
  },
  {
   "cell_type": "code",
   "execution_count": 25,
   "id": "46ae2487",
   "metadata": {},
   "outputs": [],
   "source": [
    "# Asignamos números a variables\n",
    "a=5"
   ]
  },
  {
   "cell_type": "code",
   "execution_count": 27,
   "id": "1e65725d-518d-4d6a-a1cb-76eb49390e4a",
   "metadata": {},
   "outputs": [
    {
     "data": {
      "text/plain": [
       "5"
      ]
     },
     "execution_count": 27,
     "metadata": {},
     "output_type": "execute_result"
    }
   ],
   "source": [
    "a"
   ]
  },
  {
   "cell_type": "code",
   "execution_count": 29,
   "id": "332bf0e2",
   "metadata": {},
   "outputs": [
    {
     "data": {
      "text/plain": [
       "10"
      ]
     },
     "execution_count": 29,
     "metadata": {},
     "output_type": "execute_result"
    }
   ],
   "source": [
    "a+a"
   ]
  },
  {
   "cell_type": "code",
   "execution_count": 37,
   "id": "72165d42",
   "metadata": {},
   "outputs": [],
   "source": [
    "# Reasignamos\n",
    "a=10"
   ]
  },
  {
   "cell_type": "code",
   "execution_count": 39,
   "id": "f1ab554c",
   "metadata": {},
   "outputs": [
    {
     "data": {
      "text/plain": [
       "10"
      ]
     },
     "execution_count": 39,
     "metadata": {},
     "output_type": "execute_result"
    }
   ],
   "source": [
    "a"
   ]
  },
  {
   "cell_type": "code",
   "execution_count": 41,
   "id": "0ba3ba7e",
   "metadata": {},
   "outputs": [],
   "source": [
    "a=a+a"
   ]
  },
  {
   "cell_type": "code",
   "execution_count": 43,
   "id": "b7f69aa8",
   "metadata": {},
   "outputs": [
    {
     "data": {
      "text/plain": [
       "20"
      ]
     },
     "execution_count": 43,
     "metadata": {},
     "output_type": "execute_result"
    }
   ],
   "source": [
    "a"
   ]
  },
  {
   "cell_type": "code",
   "execution_count": 45,
   "id": "a7a2b180",
   "metadata": {},
   "outputs": [
    {
     "data": {
      "text/plain": [
       "10.0"
      ]
     },
     "execution_count": 45,
     "metadata": {},
     "output_type": "execute_result"
    }
   ],
   "source": [
    "mi_valor=100\n",
    "ratio=0.1\n",
    "mi_precio=mi_valor*ratio\n",
    "mi_precio"
   ]
  },
  {
   "cell_type": "code",
   "execution_count": null,
   "id": "f1208bf8",
   "metadata": {},
   "outputs": [],
   "source": [
    "# Podemos determinar el tipo de una variable con type()\n",
    "type(mi_precio)"
   ]
  },
  {
   "cell_type": "markdown",
   "id": "b34361cb",
   "metadata": {},
   "source": [
    "### STRINGS"
   ]
  },
  {
   "cell_type": "markdown",
   "id": "3fb7f672",
   "metadata": {},
   "source": [
    "Guardan piezas de texto, secuencias, etc. Son secuencias de caracteres. Se emplean comillas. "
   ]
  },
  {
   "cell_type": "markdown",
   "id": "4e772236",
   "metadata": {},
   "source": [
    "Son inmutables, una vez creada los elementos ya no se pueden modificar o cambiar. Sí que se pueden concatenar strings. "
   ]
  },
  {
   "cell_type": "markdown",
   "id": "c6a6fd22",
   "metadata": {},
   "source": [
    "Hay funciones útiles como **upper(), lower() o split()**"
   ]
  },
  {
   "cell_type": "markdown",
   "id": "138663d0",
   "metadata": {},
   "source": [
    "Las strings se pueden mostrar con **print(), format() o f-strings()**"
   ]
  },
  {
   "cell_type": "code",
   "execution_count": null,
   "id": "21be8dc1",
   "metadata": {},
   "outputs": [],
   "source": [
    "'hello'"
   ]
  },
  {
   "cell_type": "code",
   "execution_count": null,
   "id": "8787b426",
   "metadata": {},
   "outputs": [],
   "source": [
    "'Esto también es una string'"
   ]
  },
  {
   "cell_type": "code",
   "execution_count": null,
   "id": "8960a93c",
   "metadata": {},
   "outputs": [],
   "source": [
    "\"y esto también\""
   ]
  },
  {
   "cell_type": "code",
   "execution_count": 47,
   "id": "20a4645e",
   "metadata": {},
   "outputs": [
    {
     "ename": "SyntaxError",
     "evalue": "unterminated string literal (detected at line 2) (1773677481.py, line 2)",
     "output_type": "error",
     "traceback": [
      "\u001b[1;36m  Cell \u001b[1;32mIn[47], line 2\u001b[1;36m\u001b[0m\n\u001b[1;33m    'i'm using this'\u001b[0m\n\u001b[1;37m                   ^\u001b[0m\n\u001b[1;31mSyntaxError\u001b[0m\u001b[1;31m:\u001b[0m unterminated string literal (detected at line 2)\n"
     ]
    }
   ],
   "source": [
    "# Para algunas cosas la comilla simple no nos serviría\n",
    "'i'm using this'"
   ]
  },
  {
   "cell_type": "code",
   "execution_count": 49,
   "id": "ee74571e",
   "metadata": {
    "scrolled": true
   },
   "outputs": [
    {
     "data": {
      "text/plain": [
       "\"i'm using this\""
      ]
     },
     "execution_count": 49,
     "metadata": {},
     "output_type": "execute_result"
    }
   ],
   "source": [
    "\"i'm using this\""
   ]
  },
  {
   "cell_type": "code",
   "execution_count": 51,
   "id": "993fd2d4",
   "metadata": {},
   "outputs": [
    {
     "name": "stdout",
     "output_type": "stream",
     "text": [
      "Hello World 1\n",
      "Hello World 2\n",
      "Use \t to print a new line\n",
      "\n",
      "\n",
      "See what I mean?\n"
     ]
    }
   ],
   "source": [
    "# Print() nos permite mostrar strings en el código\n",
    "print('Hello World 1')\n",
    "print('Hello World 2')\n",
    "print('Use \\t to print a new line')\n",
    "print(\"\\n\")\n",
    "print('See what I mean?')\n",
    "# la /t se refiere a un salto de tabulación"
   ]
  },
  {
   "cell_type": "code",
   "execution_count": 53,
   "id": "5f4daf2e",
   "metadata": {},
   "outputs": [
    {
     "data": {
      "text/plain": [
       "11"
      ]
     },
     "execution_count": 53,
     "metadata": {},
     "output_type": "execute_result"
    }
   ],
   "source": [
    "# Podemos usar len() para chequear la longitud de una string\n",
    "len(\"Hello World\")\n",
    "# el espacio tb se cuenta como caracter"
   ]
  },
  {
   "cell_type": "code",
   "execution_count": 55,
   "id": "b21f1501",
   "metadata": {},
   "outputs": [
    {
     "data": {
      "text/plain": [
       "'Hello World'"
      ]
     },
     "execution_count": 55,
     "metadata": {},
     "output_type": "execute_result"
    }
   ],
   "source": [
    "s=\"Hello World\"\n",
    "s"
   ]
  },
  {
   "cell_type": "code",
   "execution_count": 57,
   "id": "0abe5524",
   "metadata": {
    "scrolled": true
   },
   "outputs": [
    {
     "name": "stdout",
     "output_type": "stream",
     "text": [
      "Hello World\n"
     ]
    }
   ],
   "source": [
    "print(s)"
   ]
  },
  {
   "cell_type": "code",
   "execution_count": 59,
   "id": "31b7eaea",
   "metadata": {},
   "outputs": [
    {
     "data": {
      "text/plain": [
       "'Hello World'"
      ]
     },
     "execution_count": 59,
     "metadata": {},
     "output_type": "execute_result"
    }
   ],
   "source": [
    "s"
   ]
  },
  {
   "cell_type": "code",
   "execution_count": 61,
   "id": "fc14ce46",
   "metadata": {},
   "outputs": [
    {
     "name": "stdout",
     "output_type": "stream",
     "text": [
      "11\n"
     ]
    },
    {
     "data": {
      "text/plain": [
       "str"
      ]
     },
     "execution_count": 61,
     "metadata": {},
     "output_type": "execute_result"
    }
   ],
   "source": [
    "a=len(s)\n",
    "print(a)\n",
    "type(s)"
   ]
  },
  {
   "cell_type": "code",
   "execution_count": 63,
   "id": "1d1a259e",
   "metadata": {},
   "outputs": [
    {
     "data": {
      "text/plain": [
       "'H'"
      ]
     },
     "execution_count": 63,
     "metadata": {},
     "output_type": "execute_result"
    }
   ],
   "source": [
    "# En Python se empieza a contar desde el 0\n",
    "s[0]"
   ]
  },
  {
   "cell_type": "code",
   "execution_count": 65,
   "id": "a22f18a3",
   "metadata": {},
   "outputs": [
    {
     "data": {
      "text/plain": [
       "'l'"
      ]
     },
     "execution_count": 65,
     "metadata": {},
     "output_type": "execute_result"
    }
   ],
   "source": [
    "s[2]"
   ]
  },
  {
   "cell_type": "code",
   "execution_count": 67,
   "id": "0b89713b",
   "metadata": {},
   "outputs": [
    {
     "data": {
      "text/plain": [
       "'ello World'"
      ]
     },
     "execution_count": 67,
     "metadata": {},
     "output_type": "execute_result"
    }
   ],
   "source": [
    "# Coger todo desde el caracter 1 hasta el final\n",
    "s[1:]"
   ]
  },
  {
   "cell_type": "code",
   "execution_count": 69,
   "id": "e38677d7",
   "metadata": {},
   "outputs": [
    {
     "data": {
      "text/plain": [
       "'Hel'"
      ]
     },
     "execution_count": 69,
     "metadata": {},
     "output_type": "execute_result"
    }
   ],
   "source": [
    "# Coger todo desde el principio hasta el número 3 (no incluido)\n",
    "s[:3]"
   ]
  },
  {
   "cell_type": "code",
   "execution_count": 71,
   "id": "ac2c9eae",
   "metadata": {},
   "outputs": [
    {
     "data": {
      "text/plain": [
       "'Hello World'"
      ]
     },
     "execution_count": 71,
     "metadata": {},
     "output_type": "execute_result"
    }
   ],
   "source": [
    "# Coger todo\n",
    "s[:]"
   ]
  },
  {
   "cell_type": "code",
   "execution_count": 73,
   "id": "a1f5c70f",
   "metadata": {},
   "outputs": [
    {
     "data": {
      "text/plain": [
       "'Hello Worl'"
      ]
     },
     "execution_count": 73,
     "metadata": {},
     "output_type": "execute_result"
    }
   ],
   "source": [
    "# Podemos coger todo menos la última\n",
    "s[:-1]"
   ]
  },
  {
   "cell_type": "code",
   "execution_count": 75,
   "id": "42645b47",
   "metadata": {},
   "outputs": [
    {
     "data": {
      "text/plain": [
       "'HloWrd'"
      ]
     },
     "execution_count": 75,
     "metadata": {},
     "output_type": "execute_result"
    }
   ],
   "source": [
    "# Coger todo pero yendo en pasos de 2\n",
    "s[::2]"
   ]
  },
  {
   "cell_type": "code",
   "execution_count": 77,
   "id": "0157427d",
   "metadata": {},
   "outputs": [
    {
     "data": {
      "text/plain": [
       "'dlroW olleH'"
      ]
     },
     "execution_count": 77,
     "metadata": {},
     "output_type": "execute_result"
    }
   ],
   "source": [
    "# La mostramos al revés\n",
    "s[::-1]"
   ]
  },
  {
   "cell_type": "code",
   "execution_count": 79,
   "id": "14b9faee",
   "metadata": {},
   "outputs": [
    {
     "ename": "TypeError",
     "evalue": "'str' object does not support item assignment",
     "output_type": "error",
     "traceback": [
      "\u001b[1;31m---------------------------------------------------------------------------\u001b[0m",
      "\u001b[1;31mTypeError\u001b[0m                                 Traceback (most recent call last)",
      "Cell \u001b[1;32mIn[79], line 1\u001b[0m\n\u001b[1;32m----> 1\u001b[0m s[\u001b[38;5;241m0\u001b[39m]\u001b[38;5;241m=\u001b[39m\u001b[38;5;124m'\u001b[39m\u001b[38;5;124mx\u001b[39m\u001b[38;5;124m'\u001b[39m\n",
      "\u001b[1;31mTypeError\u001b[0m: 'str' object does not support item assignment"
     ]
    }
   ],
   "source": [
    "s[0]='x'"
   ]
  },
  {
   "cell_type": "code",
   "execution_count": 81,
   "id": "42273bd8",
   "metadata": {},
   "outputs": [],
   "source": [
    "# Concatenar\n",
    "s =s + ' concatename'"
   ]
  },
  {
   "cell_type": "code",
   "execution_count": 83,
   "id": "ad6981b6",
   "metadata": {},
   "outputs": [
    {
     "data": {
      "text/plain": [
       "'Hello World concatename'"
      ]
     },
     "execution_count": 83,
     "metadata": {},
     "output_type": "execute_result"
    }
   ],
   "source": [
    "s"
   ]
  },
  {
   "cell_type": "code",
   "execution_count": 87,
   "id": "829b2929",
   "metadata": {},
   "outputs": [
    {
     "data": {
      "text/plain": [
       "'zzzzzzzzzz'"
      ]
     },
     "execution_count": 87,
     "metadata": {},
     "output_type": "execute_result"
    }
   ],
   "source": [
    "# si que podemos usar el multiplicador para crear repetición de elementos\n",
    "letter='z'\n",
    "letter*10"
   ]
  },
  {
   "cell_type": "code",
   "execution_count": 89,
   "id": "39537ae0",
   "metadata": {
    "scrolled": true
   },
   "outputs": [],
   "source": [
    "# Todo en mayúsculas (no cambia el original)\n",
    "S=s.upper()"
   ]
  },
  {
   "cell_type": "code",
   "execution_count": 91,
   "id": "1e42686d",
   "metadata": {},
   "outputs": [
    {
     "data": {
      "text/plain": [
       "'HELLO WORLD CONCATENAME'"
      ]
     },
     "execution_count": 91,
     "metadata": {},
     "output_type": "execute_result"
    }
   ],
   "source": [
    "S"
   ]
  },
  {
   "cell_type": "code",
   "execution_count": 97,
   "id": "fcdcd3e4",
   "metadata": {},
   "outputs": [
    {
     "data": {
      "text/plain": [
       "'hello world concatename'"
      ]
     },
     "execution_count": 97,
     "metadata": {},
     "output_type": "execute_result"
    }
   ],
   "source": [
    "# Todo en minúsculas\n",
    "S.lower()"
   ]
  },
  {
   "cell_type": "code",
   "execution_count": 99,
   "id": "e47b75b8",
   "metadata": {},
   "outputs": [
    {
     "data": {
      "text/plain": [
       "['Hello', 'World', 'concatename']"
      ]
     },
     "execution_count": 99,
     "metadata": {},
     "output_type": "execute_result"
    }
   ],
   "source": [
    "# Separa la string por los espacios en blanco\n",
    "s.split()"
   ]
  },
  {
   "cell_type": "code",
   "execution_count": 101,
   "id": "0530dec1",
   "metadata": {},
   "outputs": [
    {
     "data": {
      "text/plain": [
       "['He', '', 'o Wor', 'd concatename']"
      ]
     },
     "execution_count": 101,
     "metadata": {},
     "output_type": "execute_result"
    }
   ],
   "source": [
    "s.split('l')"
   ]
  },
  {
   "cell_type": "code",
   "execution_count": 103,
   "id": "0cbfc20c",
   "metadata": {},
   "outputs": [
    {
     "name": "stdout",
     "output_type": "stream",
     "text": [
      "Él dijo que su nombre era Paco.\n"
     ]
    }
   ],
   "source": [
    "# Tips para hacer un print bonito con las f-strings (simplemente la f es parte del formato)\n",
    "nombre='Paco'\n",
    "print(f\"Él dijo que su nombre era {nombre}.\")"
   ]
  },
  {
   "cell_type": "code",
   "execution_count": 105,
   "id": "86055cfc",
   "metadata": {},
   "outputs": [
    {
     "name": "stdout",
     "output_type": "stream",
     "text": [
      "El dijo que su nombre era Paco.\n"
     ]
    }
   ],
   "source": [
    "print(f\"El dijo que su nombre era {nombre}.\")"
   ]
  },
  {
   "cell_type": "code",
   "execution_count": 107,
   "id": "bf48e4f0",
   "metadata": {},
   "outputs": [
    {
     "name": "stdout",
     "output_type": "stream",
     "text": [
      "Él dijo que su nombre era 'Paco'.\n"
     ]
    }
   ],
   "source": [
    "# Podemos meter la string literal con !r\n",
    "print(f\"Él dijo que su nombre era {nombre!r}.\")"
   ]
  },
  {
   "cell_type": "code",
   "execution_count": null,
   "id": "7da3d400-fcb2-4731-b111-3465191ec896",
   "metadata": {},
   "outputs": [],
   "source": []
  }
 ],
 "metadata": {
  "kernelspec": {
   "display_name": "Python 3 (ipykernel)",
   "language": "python",
   "name": "python3"
  },
  "language_info": {
   "codemirror_mode": {
    "name": "ipython",
    "version": 3
   },
   "file_extension": ".py",
   "mimetype": "text/x-python",
   "name": "python",
   "nbconvert_exporter": "python",
   "pygments_lexer": "ipython3",
   "version": "3.12.4"
  }
 },
 "nbformat": 4,
 "nbformat_minor": 5
}
