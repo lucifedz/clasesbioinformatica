{
 "cells": [
  {
   "cell_type": "markdown",
   "id": "e87fdfc4",
   "metadata": {},
   "source": [
    "# PRACTICA JUEGO CONDICIONALES BUCLES\n",
    "\n",
    "\n",
    "## JUEGO DE ADIVINANZAS\n",
    "\n",
    "#### Escribe un programa que coja un número entero del 1 al 100, y los jugadores tienen que tratar de adivinar el número.\n",
    "\n",
    "#### Las reglas son las siguientes:\n",
    "\n",
    "1. Si un jugador escoje un número menor que 1 o mayor que 100, el programa dice \"FUERA DE LÍMITES\"\n",
    "2. En el primer turno del jugador, si está en un rango de 10 del número dice \"¡CALIENTE!\". Si está fuera de ese rango dice \"¡FRIO!\"\n",
    "3. En todas las rondas siguientes, si el jugador se acerca más que la vez anterior, dice \"¡MAS CALIENTE!\". Si está más lejos que la anterior vez dice \"¡MAS FRIO!\"\n",
    "4. Cuando el jugador acierte el número, les dirá que han acertado y cuántos intentos les ha llevado\n",
    "\n",
    "\n",
    "\n"
   ]
  },
  {
   "cell_type": "markdown",
   "id": "1ea418c3",
   "metadata": {},
   "source": [
    "##### PISTAS\n",
    "1. Trata obtener un número aleatorio entre el 1 y el 100\n",
    "2. Haz una introducción de tu juego y explica las reglas\n",
    "3. Crea una lista que almacene los intentos. \n",
    "4. Haz un bucle que evalúe un número. Prueba que funcione primero. While podría ir bien\n",
    "5. Modifica ese bucle para que compare nuestro número con el intento. Si se acierta usa break, si no puedes usar continue y tienes que seguir preguntando al jugador por nuevos intentos"
   ]
  },
  {
   "cell_type": "code",
   "execution_count": 3,
   "id": "9d8095d9",
   "metadata": {},
   "outputs": [
    {
     "ename": "SyntaxError",
     "evalue": "invalid syntax (1285077461.py, line 1)",
     "output_type": "error",
     "traceback": [
      "\u001b[1;36m  Cell \u001b[1;32mIn[3], line 1\u001b[1;36m\u001b[0m\n\u001b[1;33m    mi_lista(1:100)\u001b[0m\n\u001b[1;37m              ^\u001b[0m\n\u001b[1;31mSyntaxError\u001b[0m\u001b[1;31m:\u001b[0m invalid syntax\n"
     ]
    }
   ],
   "source": [
    "from ramdom import shuffle\n",
    "def juego_adivinacion():\n",
    "print\n",
    "print\n",
    "mi_lista = []\n",
    "desordenar\n",
    "    for num in mi_lista:\n",
    "        if num <1 or >100:\n",
    "            return\n",
    "        else:\n",
    "            return 'FUERA DE LIMITES'"
   ]
  },
  {
   "cell_type": "code",
   "execution_count": 7,
   "id": "bc20a747-914e-4e61-b0a4-63d14ee2d8c0",
   "metadata": {},
   "outputs": [
    {
     "ename": "NameError",
     "evalue": "name 'numero_aleatorio' is not defined",
     "output_type": "error",
     "traceback": [
      "\u001b[1;31m---------------------------------------------------------------------------\u001b[0m",
      "\u001b[1;31mNameError\u001b[0m                                 Traceback (most recent call last)",
      "Cell \u001b[1;32mIn[7], line 1\u001b[0m\n\u001b[1;32m----> 1\u001b[0m numero_aleatorio\u001b[38;5;241m.\u001b[39mrandomint(\u001b[38;5;241m1\u001b[39m,\u001b[38;5;241m100\u001b[39m)\n\u001b[0;32m      2\u001b[0m numero_aleatorio\n",
      "\u001b[1;31mNameError\u001b[0m: name 'numero_aleatorio' is not defined"
     ]
    }
   ],
   "source": [
    "while True\n"
   ]
  },
  {
   "cell_type": "code",
   "execution_count": 41,
   "id": "22423539-2fd8-4072-98ae-4afc8da28728",
   "metadata": {},
   "outputs": [
    {
     "name": "stdout",
     "output_type": "stream",
     "text": [
      "Bienvenido al juego de adivinanza!\n",
      "Elige un numero del 1 al 100\n",
      "Si aciertas...¡habrás ganado!\n",
      "Si no, intententalo de nuevo\n"
     ]
    },
    {
     "ename": "UnboundLocalError",
     "evalue": "cannot access local variable 'respuesta' where it is not associated with a value",
     "output_type": "error",
     "traceback": [
      "\u001b[1;31m---------------------------------------------------------------------------\u001b[0m",
      "\u001b[1;31mUnboundLocalError\u001b[0m                         Traceback (most recent call last)",
      "Cell \u001b[1;32mIn[41], line 26\u001b[0m\n\u001b[0;32m     24\u001b[0m         \u001b[38;5;28;01melse\u001b[39;00m:\n\u001b[0;32m     25\u001b[0m             \u001b[38;5;28mprint\u001b[39m(\u001b[38;5;124m'\u001b[39m\u001b[38;5;124mMAS FRIO\u001b[39m\u001b[38;5;124m'\u001b[39m)\n\u001b[1;32m---> 26\u001b[0m juego_adivinacion()\n",
      "Cell \u001b[1;32mIn[41], line 10\u001b[0m, in \u001b[0;36mjuego_adivinacion\u001b[1;34m()\u001b[0m\n\u001b[0;32m      8\u001b[0m intento \u001b[38;5;241m=\u001b[39m \u001b[38;5;241m0\u001b[39m\n\u001b[0;32m      9\u001b[0m \u001b[38;5;28;01mwhile\u001b[39;00m \u001b[38;5;28;01mTrue\u001b[39;00m:\n\u001b[1;32m---> 10\u001b[0m     \u001b[38;5;28;01mif\u001b[39;00m respuesta \u001b[38;5;241m<\u001b[39m\u001b[38;5;241m1\u001b[39m \u001b[38;5;129;01mor\u001b[39;00m respuesta \u001b[38;5;241m>\u001b[39m\u001b[38;5;241m100\u001b[39m:\n\u001b[0;32m     11\u001b[0m         respuesta \u001b[38;5;241m=\u001b[39m \u001b[38;5;28minput\u001b[39m(\u001b[38;5;124m\"\u001b[39m\u001b[38;5;124mEscoge un numero del 1 al 100\u001b[39m\u001b[38;5;124m\"\u001b[39m)\n\u001b[0;32m     12\u001b[0m         \u001b[38;5;28;01mreturn\u001b[39;00m \u001b[38;5;124m'\u001b[39m\u001b[38;5;124mFUERA DE LIMITES\u001b[39m\u001b[38;5;124m'\u001b[39m\n",
      "\u001b[1;31mUnboundLocalError\u001b[0m: cannot access local variable 'respuesta' where it is not associated with a value"
     ]
    }
   ],
   "source": [
    "import random\n",
    "def juego_adivinacion():\n",
    "    print('Bienvenido al juego de adivinanza!')\n",
    "    print('Elige un numero del 1 al 100')\n",
    "    print('Si aciertas...¡habrás ganado!')\n",
    "    print('Si no, intententalo de nuevo')\n",
    "    numero_aleatorio = random.randint(1, 100)\n",
    "    intento = 0\n",
    "    while True:\n",
    "        if respuesta <1 or respuesta >100:\n",
    "            respuesta = input(\"Escoge un numero del 1 al 100\")\n",
    "            return 'FUERA DE LIMITES'\n",
    "        return int(intento) \n",
    "        if respuesta == numero_aleatorio:\n",
    "            break\n",
    "            print('Has gando, felicidades!')\n",
    "        if (respuesta - numero_aleatorio) <= 10:\n",
    "            return('CALIENTE')\n",
    "        else:\n",
    "            return('FRIO')\n",
    "    else:\n",
    "        if (respuesta - numero_aleaotrio) < (respuesta_guardada - numero_aleatorio):\n",
    "            print('MAS CALIENTE')\n",
    "        else:\n",
    "            print('MAS FRIO')\n",
    "juego_adivinacion()"
   ]
  },
  {
   "cell_type": "code",
   "execution_count": 19,
   "id": "cdb5fa52-4795-404c-9fcb-84ce310d62fd",
   "metadata": {},
   "outputs": [
    {
     "name": "stdin",
     "output_type": "stream",
     "text": [
      "Escoje un numero del 1 al 100 3\n"
     ]
    },
    {
     "ename": "TypeError",
     "evalue": "'<' not supported between instances of 'str' and 'int'",
     "output_type": "error",
     "traceback": [
      "\u001b[1;31m---------------------------------------------------------------------------\u001b[0m",
      "\u001b[1;31mTypeError\u001b[0m                                 Traceback (most recent call last)",
      "Cell \u001b[1;32mIn[19], line 7\u001b[0m\n\u001b[0;32m      5\u001b[0m                 \u001b[38;5;28mprint\u001b[39m(\u001b[38;5;124m'\u001b[39m\u001b[38;5;124mFUERA DE LIMITES\u001b[39m\u001b[38;5;124m'\u001b[39m)\n\u001b[0;32m      6\u001b[0m         \u001b[38;5;28;01mcontinue\u001b[39;00m\n\u001b[1;32m----> 7\u001b[0m adivinacion()\n",
      "Cell \u001b[1;32mIn[19], line 4\u001b[0m, in \u001b[0;36madivinacion\u001b[1;34m()\u001b[0m\n\u001b[0;32m      2\u001b[0m \u001b[38;5;28;01mwhile\u001b[39;00m \u001b[38;5;28;01mTrue\u001b[39;00m:\n\u001b[0;32m      3\u001b[0m     intento \u001b[38;5;241m=\u001b[39m \u001b[38;5;28minput\u001b[39m(\u001b[38;5;124m'\u001b[39m\u001b[38;5;124mEscoje un numero del 1 al 100\u001b[39m\u001b[38;5;124m'\u001b[39m)\n\u001b[1;32m----> 4\u001b[0m     \u001b[38;5;28;01mif\u001b[39;00m intento \u001b[38;5;241m<\u001b[39m \u001b[38;5;241m1\u001b[39m \u001b[38;5;129;01mor\u001b[39;00m intento\u001b[38;5;241m>\u001b[39m \u001b[38;5;241m100\u001b[39m: \n\u001b[0;32m      5\u001b[0m             \u001b[38;5;28mprint\u001b[39m(\u001b[38;5;124m'\u001b[39m\u001b[38;5;124mFUERA DE LIMITES\u001b[39m\u001b[38;5;124m'\u001b[39m)\n\u001b[0;32m      6\u001b[0m     \u001b[38;5;28;01mcontinue\u001b[39;00m\n",
      "\u001b[1;31mTypeError\u001b[0m: '<' not supported between instances of 'str' and 'int'"
     ]
    }
   ],
   "source": [
    "def adivinacion():\n",
    "    while True:\n",
    "        intento = input('Escoje un numero del 1 al 100')\n",
    "        if intento < 1 or intento> 100: \n",
    "            print('FUERA DE LIMITES')\n",
    "        continue\n",
    "        if intento \n",
    "        if intento == numero_aleatorio\n",
    "        break\n",
    "        print('Has gando, feliciades!')\n",
    "adivinacion()"
   ]
  },
  {
   "cell_type": "code",
   "execution_count": 19,
   "id": "67efd706-9797-471c-aedc-c513e48a22ea",
   "metadata": {},
   "outputs": [
    {
     "name": "stdin",
     "output_type": "stream",
     "text": [
      "Esocoje un número del 1 al 100  3\n",
      "Esocoje un número del 1 al 100  2\n"
     ]
    },
    {
     "data": {
      "text/plain": [
       "2"
      ]
     },
     "execution_count": 19,
     "metadata": {},
     "output_type": "execute_result"
    }
   ],
   "source": [
    "adivinacion()"
   ]
  },
  {
   "cell_type": "code",
   "execution_count": null,
   "id": "8054a8fe-6f14-4d28-916c-9f5f53b45358",
   "metadata": {},
   "outputs": [],
   "source": [
    "while num in mi_lista "
   ]
  },
  {
   "cell_type": "code",
   "execution_count": null,
   "id": "d22de71e-c7af-4e62-9e9a-166227e25d27",
   "metadata": {},
   "outputs": [],
   "source": []
  }
 ],
 "metadata": {
  "kernelspec": {
   "display_name": "Python 3 (ipykernel)",
   "language": "python",
   "name": "python3"
  },
  "language_info": {
   "codemirror_mode": {
    "name": "ipython",
    "version": 3
   },
   "file_extension": ".py",
   "mimetype": "text/x-python",
   "name": "python",
   "nbconvert_exporter": "python",
   "pygments_lexer": "ipython3",
   "version": "3.12.4"
  }
 },
 "nbformat": 4,
 "nbformat_minor": 5
}
