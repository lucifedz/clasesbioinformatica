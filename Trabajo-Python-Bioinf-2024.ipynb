{
 "cells": [
  {
   "cell_type": "markdown",
   "id": "eaebb484",
   "metadata": {},
   "source": [
    "# TRABAJO DE PYTHON\n",
    "\n",
    "### Este trabajo cuenta el 30% de la nota. \n",
    "\n",
    "### Resuelve los siguientes ejercicios en Python\n",
    "\n",
    "#### Utiliza tantas celdas de código como necesites"
   ]
  },
  {
   "cell_type": "markdown",
   "id": "98d4d480",
   "metadata": {},
   "source": [
    "#### 1.- Carga el archivo *\"archivo.txt\"* en este Jupyter Notebook y guarda su contenido en una lista. (1 pto)"
   ]
  },
  {
   "cell_type": "code",
   "execution_count": 1,
   "id": "f6b21b23",
   "metadata": {},
   "outputs": [],
   "source": [
    "mi_archivo=open('archivo.txt')"
   ]
  },
  {
   "cell_type": "code",
   "execution_count": 5,
   "id": "f7673b86-3995-4548-873c-93a3bf4d506c",
   "metadata": {},
   "outputs": [
    {
     "data": {
      "text/plain": [
       "<_io.TextIOWrapper name='archivo.txt' mode='r' encoding='cp1252'>"
      ]
     },
     "execution_count": 5,
     "metadata": {},
     "output_type": "execute_result"
    }
   ],
   "source": [
    "mi_archivo"
   ]
  },
  {
   "cell_type": "code",
   "execution_count": 171,
   "id": "be51f950-739f-4017-bc82-64225bcaf14b",
   "metadata": {},
   "outputs": [
    {
     "data": {
      "text/plain": [
       "'>CP043953.1 Acinetobacter baumannii strain K09-14 chromosome, complete genome\\nATGCTTTGGACAGACTGCTTAACTCGCTTGCGACAAGAGCTCTCTGATAACGTCTTTGCGATGTGGATTCGCCCTTTAGTAGCTGAAGAAGTAGAGGGGATACTACGTCTCTATGCTCCTAATCCTTATTGGACGCGTTATATTCAAGAGAATCATTTAGAGTTAATTTCTATATTGGCTGAACAATTGTCAGAAGGGCGGGTGCGTCAGGTTGAAATCTTGGTAGATTCTCGTCCTGGTAGTATTTTGTCTTCTAGTGAACAGCCTGCAACAACTACAGCAGCTTTACAAACTGCCCCTATACCTCAACCTGCTAAGGTTAAAAGAGAACCGGAACCTGTTGCTAATACTGCAGTTAGTTCTAAGAGTTCAAAAAAGAAACTATTAAATCCACAATTTACTTTTTCACTATTTGTTGAAGGCCGTTCTAACCAAATGGCAGCAGAAACCTGTAGAAAAGTATTAACACAGTTAGGTGCTTCTCAACATAACCCTTTGTTTTTATATGGTCCGACAGGTCTAGGTAAGACTCACTTAATGCAAGCAGTTGGTAATGCCCTACTGCAAGCGAAGCCGAATGCAAGAGTCATGTATATGACTTCAGAAAGTTTTGTACAAGATTTTGTGAGCTCATTACAAAAAGGAAAGGTAGAAGAGTTTAAGAAAAATTGCCGTTCTTTAGACTTGTTATTAGTAGATGATATTCATCTTTTGGCAGGAAAAGAAGCAAGTCTCGTTGAATTCTTCTATACATTTAATGCCTTACTTGATGAATCTAAACAAATTATTTTAACGTCTGATCGATATCCTAAAGAATTAACAGAACTTGATCCTCGATTGGTTTCTCGTTTTTCCTGGGGGCTATCAGTAGGTGTTGAACCACCTGATATTGAAACTCGAATCGAAATTCTGCTTAAAAAAGCTGAAAATAGTGGCGTTGATTTACCTAGAAACTGTGCGTTGTTTATTGCCCAACAAGTCGTAGCGAACGTACGTGAACTTGAGGGCGCACTGAATAAAGTTGTCGCAATTTCACGTTTTAAAGGTGCTCCAATTGACCTGGATGTCGTACGGGAATCTTTAAAAGATGTTTTAGCGATCCGTGCTCGTACAATTAGTGTAGAAAATATCCAGCGTGTAGTGAGTGAATATTTCCGAATTCCATTAAAAGAGCTGGTAGGTCCAAAGCGTACCCGAATTTATGCTCGACCACGTCAGTTGGCGATGGGGCTTGCCCGTGAATTAACGGGGGATAGTTTTCCTGAAATTGGAATGGCTTTTGGTGGGCGTGATCACAGTACAGTGATGCATGCTTGTGAAAAAGTCGTC'"
      ]
     },
     "execution_count": 171,
     "metadata": {},
     "output_type": "execute_result"
    }
   ],
   "source": [
    "mi_archivo.read()"
   ]
  },
  {
   "cell_type": "code",
   "execution_count": 172,
   "id": "105a74e7-30d3-4f76-ae68-7adececd0ad9",
   "metadata": {
    "scrolled": true
   },
   "outputs": [
    {
     "data": {
      "text/plain": [
       "['>CP043953.1 Acinetobacter baumannii strain K09-14 chromosome, complete genome\\n',\n",
       " 'ATGCTTTGGACAGACTGCTTAACTCGCTTGCGACAAGAGCTCTCTGATAACGTCTTTGCGATGTGGATTCGCCCTTTAGTAGCTGAAGAAGTAGAGGGGATACTACGTCTCTATGCTCCTAATCCTTATTGGACGCGTTATATTCAAGAGAATCATTTAGAGTTAATTTCTATATTGGCTGAACAATTGTCAGAAGGGCGGGTGCGTCAGGTTGAAATCTTGGTAGATTCTCGTCCTGGTAGTATTTTGTCTTCTAGTGAACAGCCTGCAACAACTACAGCAGCTTTACAAACTGCCCCTATACCTCAACCTGCTAAGGTTAAAAGAGAACCGGAACCTGTTGCTAATACTGCAGTTAGTTCTAAGAGTTCAAAAAAGAAACTATTAAATCCACAATTTACTTTTTCACTATTTGTTGAAGGCCGTTCTAACCAAATGGCAGCAGAAACCTGTAGAAAAGTATTAACACAGTTAGGTGCTTCTCAACATAACCCTTTGTTTTTATATGGTCCGACAGGTCTAGGTAAGACTCACTTAATGCAAGCAGTTGGTAATGCCCTACTGCAAGCGAAGCCGAATGCAAGAGTCATGTATATGACTTCAGAAAGTTTTGTACAAGATTTTGTGAGCTCATTACAAAAAGGAAAGGTAGAAGAGTTTAAGAAAAATTGCCGTTCTTTAGACTTGTTATTAGTAGATGATATTCATCTTTTGGCAGGAAAAGAAGCAAGTCTCGTTGAATTCTTCTATACATTTAATGCCTTACTTGATGAATCTAAACAAATTATTTTAACGTCTGATCGATATCCTAAAGAATTAACAGAACTTGATCCTCGATTGGTTTCTCGTTTTTCCTGGGGGCTATCAGTAGGTGTTGAACCACCTGATATTGAAACTCGAATCGAAATTCTGCTTAAAAAAGCTGAAAATAGTGGCGTTGATTTACCTAGAAACTGTGCGTTGTTTATTGCCCAACAAGTCGTAGCGAACGTACGTGAACTTGAGGGCGCACTGAATAAAGTTGTCGCAATTTCACGTTTTAAAGGTGCTCCAATTGACCTGGATGTCGTACGGGAATCTTTAAAAGATGTTTTAGCGATCCGTGCTCGTACAATTAGTGTAGAAAATATCCAGCGTGTAGTGAGTGAATATTTCCGAATTCCATTAAAAGAGCTGGTAGGTCCAAAGCGTACCCGAATTTATGCTCGACCACGTCAGTTGGCGATGGGGCTTGCCCGTGAATTAACGGGGGATAGTTTTCCTGAAATTGGAATGGCTTTTGGTGGGCGTGATCACAGTACAGTGATGCATGCTTGTGAAAAAGTCGTC']"
      ]
     },
     "execution_count": 172,
     "metadata": {},
     "output_type": "execute_result"
    }
   ],
   "source": [
    "mi_archivo.seek(0)\n",
    "contenido=mi_archivo.readlines()\n",
    "contenido"
   ]
  },
  {
   "cell_type": "markdown",
   "id": "400fa3f1",
   "metadata": {},
   "source": [
    "#### 2.- Muestre el encabezado y la secuencia y guarde cada uno en variables separadas. Elimine el elemento \"\\n\" del encabezado con replace(). ¿Cual es la longitud de la secuencia?. (1 pto)"
   ]
  },
  {
   "cell_type": "code",
   "execution_count": 174,
   "id": "e17e3655-b1a4-4b4a-bb2d-105cc5182173",
   "metadata": {},
   "outputs": [
    {
     "data": {
      "text/plain": [
       "['>CP043953.1 Acinetobacter baumannii strain K09-14 chromosome, complete genome\\n',\n",
       " 'ATGCTTTGGACAGACTGCTTAACTCGCTTGCGACAAGAGCTCTCTGATAACGTCTTTGCGATGTGGATTCGCCCTTTAGTAGCTGAAGAAGTAGAGGGGATACTACGTCTCTATGCTCCTAATCCTTATTGGACGCGTTATATTCAAGAGAATCATTTAGAGTTAATTTCTATATTGGCTGAACAATTGTCAGAAGGGCGGGTGCGTCAGGTTGAAATCTTGGTAGATTCTCGTCCTGGTAGTATTTTGTCTTCTAGTGAACAGCCTGCAACAACTACAGCAGCTTTACAAACTGCCCCTATACCTCAACCTGCTAAGGTTAAAAGAGAACCGGAACCTGTTGCTAATACTGCAGTTAGTTCTAAGAGTTCAAAAAAGAAACTATTAAATCCACAATTTACTTTTTCACTATTTGTTGAAGGCCGTTCTAACCAAATGGCAGCAGAAACCTGTAGAAAAGTATTAACACAGTTAGGTGCTTCTCAACATAACCCTTTGTTTTTATATGGTCCGACAGGTCTAGGTAAGACTCACTTAATGCAAGCAGTTGGTAATGCCCTACTGCAAGCGAAGCCGAATGCAAGAGTCATGTATATGACTTCAGAAAGTTTTGTACAAGATTTTGTGAGCTCATTACAAAAAGGAAAGGTAGAAGAGTTTAAGAAAAATTGCCGTTCTTTAGACTTGTTATTAGTAGATGATATTCATCTTTTGGCAGGAAAAGAAGCAAGTCTCGTTGAATTCTTCTATACATTTAATGCCTTACTTGATGAATCTAAACAAATTATTTTAACGTCTGATCGATATCCTAAAGAATTAACAGAACTTGATCCTCGATTGGTTTCTCGTTTTTCCTGGGGGCTATCAGTAGGTGTTGAACCACCTGATATTGAAACTCGAATCGAAATTCTGCTTAAAAAAGCTGAAAATAGTGGCGTTGATTTACCTAGAAACTGTGCGTTGTTTATTGCCCAACAAGTCGTAGCGAACGTACGTGAACTTGAGGGCGCACTGAATAAAGTTGTCGCAATTTCACGTTTTAAAGGTGCTCCAATTGACCTGGATGTCGTACGGGAATCTTTAAAAGATGTTTTAGCGATCCGTGCTCGTACAATTAGTGTAGAAAATATCCAGCGTGTAGTGAGTGAATATTTCCGAATTCCATTAAAAGAGCTGGTAGGTCCAAAGCGTACCCGAATTTATGCTCGACCACGTCAGTTGGCGATGGGGCTTGCCCGTGAATTAACGGGGGATAGTTTTCCTGAAATTGGAATGGCTTTTGGTGGGCGTGATCACAGTACAGTGATGCATGCTTGTGAAAAAGTCGTC']"
      ]
     },
     "execution_count": 174,
     "metadata": {},
     "output_type": "execute_result"
    }
   ],
   "source": [
    "contenido"
   ]
  },
  {
   "cell_type": "code",
   "execution_count": 175,
   "id": "2de00c46-d857-46f0-85ce-c5c0c0c208d6",
   "metadata": {},
   "outputs": [],
   "source": [
    "encabezado= contenido[0]"
   ]
  },
  {
   "cell_type": "code",
   "execution_count": 176,
   "id": "7f4b2377-4ce8-47f7-8857-96b5cf42cb42",
   "metadata": {},
   "outputs": [
    {
     "data": {
      "text/plain": [
       "'>CP043953.1 Acinetobacter baumannii strain K09-14 chromosome, complete genome\\n'"
      ]
     },
     "execution_count": 176,
     "metadata": {},
     "output_type": "execute_result"
    }
   ],
   "source": [
    "encabezado"
   ]
  },
  {
   "cell_type": "code",
   "execution_count": 177,
   "id": "e8047ded-7dfb-4ebb-bd25-1ba816173c42",
   "metadata": {},
   "outputs": [],
   "source": [
    "nuevo_encabezado = encabezado.replace('\\n','')"
   ]
  },
  {
   "cell_type": "code",
   "execution_count": 178,
   "id": "0c3b7c5d-e37d-455b-8108-d5cc648c6853",
   "metadata": {},
   "outputs": [
    {
     "data": {
      "text/plain": [
       "'>CP043953.1 Acinetobacter baumannii strain K09-14 chromosome, complete genome'"
      ]
     },
     "execution_count": 178,
     "metadata": {},
     "output_type": "execute_result"
    }
   ],
   "source": [
    "nuevo_encabezado"
   ]
  },
  {
   "cell_type": "code",
   "execution_count": 179,
   "id": "ac31c939-40e8-4264-b394-9a2710693062",
   "metadata": {},
   "outputs": [
    {
     "data": {
      "text/plain": [
       "'ATGCTTTGGACAGACTGCTTAACTCGCTTGCGACAAGAGCTCTCTGATAACGTCTTTGCGATGTGGATTCGCCCTTTAGTAGCTGAAGAAGTAGAGGGGATACTACGTCTCTATGCTCCTAATCCTTATTGGACGCGTTATATTCAAGAGAATCATTTAGAGTTAATTTCTATATTGGCTGAACAATTGTCAGAAGGGCGGGTGCGTCAGGTTGAAATCTTGGTAGATTCTCGTCCTGGTAGTATTTTGTCTTCTAGTGAACAGCCTGCAACAACTACAGCAGCTTTACAAACTGCCCCTATACCTCAACCTGCTAAGGTTAAAAGAGAACCGGAACCTGTTGCTAATACTGCAGTTAGTTCTAAGAGTTCAAAAAAGAAACTATTAAATCCACAATTTACTTTTTCACTATTTGTTGAAGGCCGTTCTAACCAAATGGCAGCAGAAACCTGTAGAAAAGTATTAACACAGTTAGGTGCTTCTCAACATAACCCTTTGTTTTTATATGGTCCGACAGGTCTAGGTAAGACTCACTTAATGCAAGCAGTTGGTAATGCCCTACTGCAAGCGAAGCCGAATGCAAGAGTCATGTATATGACTTCAGAAAGTTTTGTACAAGATTTTGTGAGCTCATTACAAAAAGGAAAGGTAGAAGAGTTTAAGAAAAATTGCCGTTCTTTAGACTTGTTATTAGTAGATGATATTCATCTTTTGGCAGGAAAAGAAGCAAGTCTCGTTGAATTCTTCTATACATTTAATGCCTTACTTGATGAATCTAAACAAATTATTTTAACGTCTGATCGATATCCTAAAGAATTAACAGAACTTGATCCTCGATTGGTTTCTCGTTTTTCCTGGGGGCTATCAGTAGGTGTTGAACCACCTGATATTGAAACTCGAATCGAAATTCTGCTTAAAAAAGCTGAAAATAGTGGCGTTGATTTACCTAGAAACTGTGCGTTGTTTATTGCCCAACAAGTCGTAGCGAACGTACGTGAACTTGAGGGCGCACTGAATAAAGTTGTCGCAATTTCACGTTTTAAAGGTGCTCCAATTGACCTGGATGTCGTACGGGAATCTTTAAAAGATGTTTTAGCGATCCGTGCTCGTACAATTAGTGTAGAAAATATCCAGCGTGTAGTGAGTGAATATTTCCGAATTCCATTAAAAGAGCTGGTAGGTCCAAAGCGTACCCGAATTTATGCTCGACCACGTCAGTTGGCGATGGGGCTTGCCCGTGAATTAACGGGGGATAGTTTTCCTGAAATTGGAATGGCTTTTGGTGGGCGTGATCACAGTACAGTGATGCATGCTTGTGAAAAAGTCGTC'"
      ]
     },
     "execution_count": 179,
     "metadata": {},
     "output_type": "execute_result"
    }
   ],
   "source": [
    "secuencia= contenido[1]\n",
    "secuencia"
   ]
  },
  {
   "cell_type": "code",
   "execution_count": 180,
   "id": "9fa69e4a-4577-4d3c-8230-b48e5e073117",
   "metadata": {},
   "outputs": [
    {
     "data": {
      "text/plain": [
       "1329"
      ]
     },
     "execution_count": 180,
     "metadata": {},
     "output_type": "execute_result"
    }
   ],
   "source": [
    "len(secuencia)"
   ]
  },
  {
   "cell_type": "markdown",
   "id": "36b8c00d",
   "metadata": {},
   "source": [
    "#### 3.- Para el encabezado, extrae empleando expresiones regulares el identificador. (1pto)"
   ]
  },
  {
   "cell_type": "code",
   "execution_count": 182,
   "id": "6583a41c-219d-4f75-afe4-2b995bc80db5",
   "metadata": {},
   "outputs": [],
   "source": [
    "import re"
   ]
  },
  {
   "cell_type": "code",
   "execution_count": 183,
   "id": "d845bb81",
   "metadata": {},
   "outputs": [
    {
     "name": "stdout",
     "output_type": "stream",
     "text": [
      "CP043953.1\n"
     ]
    }
   ],
   "source": [
    "iden = re.search(r\"\\w{2}\\d{6}\\.{1}\\d{1}\", nuevo_encabezado)\n",
    "identificador = iden.group()\n",
    "print(identificador)"
   ]
  },
  {
   "cell_type": "markdown",
   "id": "f38fdda0",
   "metadata": {},
   "source": [
    "#### 4.- Para la secuencia, haz un algoritmo que vaya sumando el numero de adeninas (A) y timinas (T) segun vaya iterando por la secuencia. El numero total de adeninas y timinas deberia guardarse en una misma variable. (1 pto)"
   ]
  },
  {
   "cell_type": "code",
   "execution_count": 185,
   "id": "2914b1f2",
   "metadata": {},
   "outputs": [
    {
     "name": "stdout",
     "output_type": "stream",
     "text": [
      "total de Adeninas y Timinas es: 793\n"
     ]
    }
   ],
   "source": [
    "def adenina_timina (secuencia): \n",
    "    AT_contenido =0\n",
    "    for nucleotido in secuencia:\n",
    "        if nucleotido == 'A' or nucleotido=='T':\n",
    "            AT_contenido +=1\n",
    "    return AT_contenido\n",
    "resultado = adenina_timina(secuencia)\n",
    "print('total de Adeninas y Timinas es:',resultado)"
   ]
  },
  {
   "cell_type": "markdown",
   "id": "98096e73",
   "metadata": {},
   "source": [
    "#### 5.- Escribe una funcion que calcule el porcentaje de un nucleotido de una secuencia y que examine la entrada para comprobar que se ha introducido un nucleotido de los cuatro tipos que hay (A, T, G o C). Devuelve el resultado con un decimal. Por ultimo comprueba que tu codigo funciona con las siguientes *assertions*. (1 pto)"
   ]
  },
  {
   "cell_type": "code",
   "execution_count": 187,
   "id": "504c0365-e89e-4483-ab23-e2967ab4918f",
   "metadata": {},
   "outputs": [],
   "source": [
    "nucleotido = contenido\n",
    "def  calculo_porcentaje (nucleotido,secuencia):\n",
    "    nucleotidos_validos = {\"A\", \"T\",\"G\",\"C\"}\n",
    "    if nucleotido not in nucleotidos_validos:\n",
    "        return (\"El nuleotido debe ser A, T, C o G\")\n",
    "    nucleotido_total=secuencia.count(nucleotido)\n",
    "    porcentaje=(nucleotido_total/len(secuencia))*100\n",
    "    return round(porcentaje,1)\n",
    "    "
   ]
  },
  {
   "cell_type": "code",
   "execution_count": 188,
   "id": "b640c94d-f8f0-41dc-bc35-76867294fb2c",
   "metadata": {},
   "outputs": [
    {
     "data": {
      "text/plain": [
       "'El nuleotido debe ser A, T, C o G'"
      ]
     },
     "execution_count": 188,
     "metadata": {},
     "output_type": "execute_result"
    }
   ],
   "source": [
    "calculo_porcentaje(\"R\",secuencia)"
   ]
  },
  {
   "cell_type": "code",
   "execution_count": 189,
   "id": "578ed576-7518-4548-96b4-01b63198323d",
   "metadata": {},
   "outputs": [
    {
     "data": {
      "text/plain": [
       "29.2"
      ]
     },
     "execution_count": 189,
     "metadata": {},
     "output_type": "execute_result"
    }
   ],
   "source": [
    "calculo_porcentaje(\"A\",secuencia)"
   ]
  },
  {
   "cell_type": "code",
   "execution_count": 190,
   "id": "1caa271f-baef-49ca-b427-abac3be6c6d1",
   "metadata": {},
   "outputs": [
    {
     "data": {
      "text/plain": [
       "22.0"
      ]
     },
     "execution_count": 190,
     "metadata": {},
     "output_type": "execute_result"
    }
   ],
   "source": [
    "calculo_porcentaje (\"G\",secuencia)"
   ]
  },
  {
   "cell_type": "code",
   "execution_count": 191,
   "id": "54d956f7-d0d3-4cb2-b1cb-02104879c516",
   "metadata": {},
   "outputs": [
    {
     "data": {
      "text/plain": [
       "18.3"
      ]
     },
     "execution_count": 191,
     "metadata": {},
     "output_type": "execute_result"
    }
   ],
   "source": [
    "calculo_porcentaje(\"C\",secuencia)"
   ]
  },
  {
   "cell_type": "code",
   "execution_count": 192,
   "id": "39f089f4-2ff0-43a8-8682-47c84175fb6e",
   "metadata": {},
   "outputs": [
    {
     "data": {
      "text/plain": [
       "30.5"
      ]
     },
     "execution_count": 192,
     "metadata": {},
     "output_type": "execute_result"
    }
   ],
   "source": [
    "calculo_porcentaje(\"T\",secuencia)"
   ]
  },
  {
   "cell_type": "code",
   "execution_count": 193,
   "id": "df4b86c4",
   "metadata": {},
   "outputs": [],
   "source": [
    "assert calculo_porcentaje(\"A\",secuencia) == 29.2\n",
    "assert calculo_porcentaje(\"T\",secuencia) == 30.5\n",
    "assert calculo_porcentaje(\"G\",secuencia) == 22.0\n",
    "assert calculo_porcentaje(\"C\",secuencia) == 18.3"
   ]
  },
  {
   "cell_type": "markdown",
   "id": "a28888dd",
   "metadata": {},
   "source": [
    "#### 6.- Devuelve la secuencia de ARN que surgiría a partir de la siguiente secuencia. Recuerda que la secuencia de ARN resultante tiene que ser complementaria a la de ADN y además, hay que cambiar un nucleótido. (1 pto)"
   ]
  },
  {
   "cell_type": "code",
   "execution_count": 195,
   "id": "e51863d5-d345-4f82-a0c2-b38f6dd10e73",
   "metadata": {},
   "outputs": [
    {
     "data": {
      "text/plain": [
       "'UACGAAACCUGUCUGACGAAUUGAGCGAACGCUGUUCUCGAGAGACUAUUGCAGAAACGCUACACCUAAGCGGGAAAUCAUCGACUUCUUCAUCUCCCCUAUGAUGCAGAGAUACGAGGAUUAGGAAUAACCUGCGCAAUAUAAGUUCUCUUAGUAAAUCUCAAUUAAAGAUAUAACCGACUUGUUAACAGUCUUCCCGCCCACGCAGUCCAACUUUAGAACCAUCUAAGAGCAGGACCAUCAUAAAACAGAAGAUCACUUGUCGGACGUUGUUGAUGUCGUCGAAAUGUUUGACGGGGAUAUGGAGUUGGACGAUUCCAAUUUUCUCUUGGCCUUGGACAACGAUUAUGACGUCAAUCAAGAUUCUCAAGUUUUUUCUUUGAUAAUUUAGGUGUUAAAUGAAAAAGUGAUAAACAACUUCCGGCAAGAUUGGUUUACCGUCGUCUUUGGACAUCUUUUCAUAAUUGUGUCAAUCCACGAAGAGUUGUAUUGGGAAACAAAAAUAUACCAGGCUGUCCAGAUCCAUUCUGAGUGAAUUACGUUCGUCAACCAUUACGGGAUGACGUUCGCUUCGGCUUACGUUCUCAGUACAUAUACUGAAGUCUUUCAAAACAUGUUCUAAAACACUCGAGUAAUGUUUUUCCUUUCCAUCUUCUCAAAUUCUUUUUAACGGCAAGAAAUCUGAACAAUAAUCAUCUACUAUAAGUAGAAAACCGUCCUUUUCUUCGUUCAGAGCAACUUAAGAAGAUAUGUAAAUUACGGAAUGAACUACUUAGAUUUGUUUAAUAAAAUUGCAGACUAGCUAUAGGAUUUCUUAAUUGUCUUGAACUAGGAGCUAACCAAAGAGCAAAAAGGACCCCCGAUAGUCAUCCACAACUUGGUGGACUAUAACUUUGAGCUUAGCUUUAAGACGAAUUUUUUCGACUUUUAUCACCGCAACUAAAUGGAUCUUUGACACGCAACAAAUAACGGGUUGUUCAGCAUCGCUUGCAUGCACUUGAACUCCCGCGUGACUUAUUUCAACAGCGUUAAAGUGCAAAAUUUCCACGAGGUUAACUGGACCUACAGCAUGCCCUUAGAAAUUUUCUACAAAAUCGCUAGGCACGAGCAUGUUAAUCACAUCUUUUAUAGGUCGCACAUCACUCACUUAUAAAGGCUUAAGGUAAUUUUCUCGACCAUCCAGGUUUCGCAUGGGCUUAAAUACGAGCUGGUGCAGUCAACCGCUACCCCGAACGGGCACUUAAUUGCCCCCUAUCAAAAGGACUUUAACCUUACCGAAAACCACCCGCACUAGUGUCAUGUCACUACGUACGAACACUUUUUCAGCAG'"
      ]
     },
     "execution_count": 195,
     "metadata": {},
     "output_type": "execute_result"
    }
   ],
   "source": [
    "arn = \"\"\n",
    "for base in secuencia:\n",
    "    if base == \"A\":\n",
    "        arn += \"U\"\n",
    "    elif base == \"T\":\n",
    "        arn += \"A\"\n",
    "    elif base == \"G\":\n",
    "        arn += \"C\"\n",
    "    elif base == \"C\":\n",
    "        arn += \"G\"\n",
    "\n",
    "arn\n"
   ]
  },
  {
   "cell_type": "markdown",
   "id": "9f94d5dd",
   "metadata": {},
   "source": [
    "#### 7.- Realiza una función que realice una digestión con las siguientes enzimas de restricción en nuestra secuencia. La función tiene que devolver la siguiente información: (2 pto)\n",
    "1. Enzimas que tienen sitios de corte en la secuencia y posición (o posiciones de corte)\n",
    "2. Enzimas que no tienen sitios de corte (si las hay)\n",
    "3. Resultado de la digestión: los fragmentos resultantes de nuestra secuencia\n",
    "4. Indicar número y tamaño de cada fragmento"
   ]
  },
  {
   "cell_type": "code",
   "execution_count": 223,
   "id": "6fbf226e-49f2-4b5d-b4f0-38cea0b09ed9",
   "metadata": {},
   "outputs": [
    {
     "data": {
      "text/plain": [
       "'ATGCTTTGGACAGACTGCTTAACTCGCTTGCGACAAGAGCTCTCTGATAACGTCTTTGCGATGTGGATTCGCCCTTTAGTAGCTGAAGAAGTAGAGGGGATACTACGTCTCTATGCTCCTAATCCTTATTGGACGCGTTATATTCAAGAGAATCATTTAGAGTTAATTTCTATATTGGCTGAACAATTGTCAGAAGGGCGGGTGCGTCAGGTTGAAATCTTGGTAGATTCTCGTCCTGGTAGTATTTTGTCTTCTAGTGAACAGCCTGCAACAACTACAGCAGCTTTACAAACTGCCCCTATACCTCAACCTGCTAAGGTTAAAAGAGAACCGGAACCTGTTGCTAATACTGCAGTTAGTTCTAAGAGTTCAAAAAAGAAACTATTAAATCCACAATTTACTTTTTCACTATTTGTTGAAGGCCGTTCTAACCAAATGGCAGCAGAAACCTGTAGAAAAGTATTAACACAGTTAGGTGCTTCTCAACATAACCCTTTGTTTTTATATGGTCCGACAGGTCTAGGTAAGACTCACTTAATGCAAGCAGTTGGTAATGCCCTACTGCAAGCGAAGCCGAATGCAAGAGTCATGTATATGACTTCAGAAAGTTTTGTACAAGATTTTGTGAGCTCATTACAAAAAGGAAAGGTAGAAGAGTTTAAGAAAAATTGCCGTTCTTTAGACTTGTTATTAGTAGATGATATTCATCTTTTGGCAGGAAAAGAAGCAAGTCTCGTTGAATTCTTCTATACATTTAATGCCTTACTTGATGAATCTAAACAAATTATTTTAACGTCTGATCGATATCCTAAAGAATTAACAGAACTTGATCCTCGATTGGTTTCTCGTTTTTCCTGGGGGCTATCAGTAGGTGTTGAACCACCTGATATTGAAACTCGAATCGAAATTCTGCTTAAAAAAGCTGAAAATAGTGGCGTTGATTTACCTAGAAACTGTGCGTTGTTTATTGCCCAACAAGTCGTAGCGAACGTACGTGAACTTGAGGGCGCACTGAATAAAGTTGTCGCAATTTCACGTTTTAAAGGTGCTCCAATTGACCTGGATGTCGTACGGGAATCTTTAAAAGATGTTTTAGCGATCCGTGCTCGTACAATTAGTGTAGAAAATATCCAGCGTGTAGTGAGTGAATATTTCCGAATTCCATTAAAAGAGCTGGTAGGTCCAAAGCGTACCCGAATTTATGCTCGACCACGTCAGTTGGCGATGGGGCTTGCCCGTGAATTAACGGGGGATAGTTTTCCTGAAATTGGAATGGCTTTTGGTGGGCGTGATCACAGTACAGTGATGCATGCTTGTGAAAAAGTCGTC'"
      ]
     },
     "execution_count": 223,
     "metadata": {},
     "output_type": "execute_result"
    }
   ],
   "source": [
    "secuencia=contenido[1]\n",
    "secuencia"
   ]
  },
  {
   "cell_type": "code",
   "execution_count": 231,
   "id": "c23d9a07-6f1d-40e8-b22e-4b3272f56715",
   "metadata": {},
   "outputs": [
    {
     "name": "stdout",
     "output_type": "stream",
     "text": [
      "{'Enzimas con corte': {'AluI': [39, 82, 283, 629, 922, 1173], 'Sau3AI': [798, 828, 1097, 1290], 'EcoRI': [739, 1157]}, 'Enzimas sin corte': ['HindIII', 'BamHI'], 'Fragmentos': ['ATGCTTTGGACAGACTGCTTAACTCGCTTGCGACAAGAG', 'CTCTCTGATAACGTCTTTGCGATGTGGATTCGCCCTTTAGTAG', 'CTGAAGAAGTAGAGGGGATACTACGTCTCTATGCTCCTAATCCTTATTGGACGCGTTATATTCAAGAGAATCATTTAGAGTTAATTTCTATATTGGCTGAACAATTGTCAGAAGGGCGGGTGCGTCAGGTTGAAATCTTGGTAGATTCTCGTCCTGGTAGTATTTTGTCTTCTAGTGAACAGCCTGCAACAACTACAGCAG', 'CTTTACAAACTGCCCCTATACCTCAACCTGCTAAGGTTAAAAGAGAACCGGAACCTGTTGCTAATACTGCAGTTAGTTCTAAGAGTTCAAAAAAGAAACTATTAAATCCACAATTTACTTTTTCACTATTTGTTGAAGGCCGTTCTAACCAAATGGCAGCAGAAACCTGTAGAAAAGTATTAACACAGTTAGGTGCTTCTCAACATAACCCTTTGTTTTTATATGGTCCGACAGGTCTAGGTAAGACTCACTTAATGCAAGCAGTTGGTAATGCCCTACTGCAAGCGAAGCCGAATGCAAGAGTCATGTATATGACTTCAGAAAGTTTTGTACAAGATTTTGTGAG', 'CTCATTACAAAAAGGAAAGGTAGAAGAGTTTAAGAAAAATTGCCGTTCTTTAGACTTGTTATTAGTAGATGATATTCATCTTTTGGCAGGAAAAGAAGCAAGTCTCGTTG', 'AATTCTTCTATACATTTAATGCCTTACTTGATGAATCTAAACAAATTATTTTAACGTCT', 'GATCGATATCCTAAAGAATTAACAGAACTT', 'GATCCTCGATTGGTTTCTCGTTTTTCCTGGGGGCTATCAGTAGGTGTTGAACCACCTGATATTGAAACTCGAATCGAAATTCTGCTTAAAAAAG', 'CTGAAAATAGTGGCGTTGATTTACCTAGAAACTGTGCGTTGTTTATTGCCCAACAAGTCGTAGCGAACGTACGTGAACTTGAGGGCGCACTGAATAAAGTTGTCGCAATTTCACGTTTTAAAGGTGCTCCAATTGACCTGGATGTCGTACGGGAATCTTTAAAAGATGTTTTAGC', 'GATCCGTGCTCGTACAATTAGTGTAGAAAATATCCAGCGTGTAGTGAGTGAATATTTCCG', 'AATTCCATTAAAAGAG', 'CTGGTAGGTCCAAAGCGTACCCGAATTTATGCTCGACCACGTCAGTTGGCGATGGGGCTTGCCCGTGAATTAACGGGGGATAGTTTTCCTGAAATTGGAATGGCTTTTGGTGGGCGT', 'GATCACAGTACAGTGATGCATGCTTGTGAAAAAGTCGTC'], 'Número de fragmentos': 13, 'Tamaño de cada fragmento': [39, 43, 201, 346, 110, 59, 30, 94, 175, 60, 16, 117, 39]}\n"
     ]
    }
   ],
   "source": [
    "enzR = {\n",
    "    'HindIII' : 'A*AGCTT',\n",
    "    'BamHI' : 'G*GATCC',\n",
    "    'AluI' : 'AG*CT',\n",
    "    'Sau3AI' : '*GATC',\n",
    "    'EcoRI' : 'G*AATTC'\n",
    "}\n",
    "def digestion(secuencia, enzR):\n",
    " \n",
    "    enzimas_con_corte = {}\n",
    "    enzimas_sin_corte = []\n",
    "    fragmentos = []\n",
    "    \n",
    "    posiciones_corte = []\n",
    "\n",
    "    for enzima, sitio_corte in enzR.items():\n",
    "       \n",
    "        posicion_corte = sitio_corte.index(\"*\")  \n",
    "        sitio = sitio_corte.replace(\"*\", \"\")    \n",
    "   \n",
    "        posiciones = []\n",
    "        i = secuencia.find(sitio)\n",
    "        while i != -1:\n",
    "            posiciones.append(i + posicion_corte)\n",
    "            i = secuencia.find(sitio, i + 1)\n",
    "       \n",
    "        if posiciones:\n",
    "            enzimas_con_corte[enzima] = posiciones\n",
    "            posiciones_corte.extend(posiciones)\n",
    "        else:\n",
    "            enzimas_sin_corte.append(enzima)\n",
    "   \n",
    "    posiciones_corte = sorted(set(posiciones_corte))  \n",
    "    inicio = 0\n",
    "    for pos in posiciones_corte:\n",
    "        fragmentos.append(secuencia[inicio:pos])\n",
    "        inicio = pos\n",
    "    fragmentos.append(secuencia[inicio:])  \n",
    "    \n",
    "    numero_fragmentos = len(fragmentos)\n",
    "    tamanos_fragmentos = [len(frag) for frag in fragmentos]\n",
    "    \n",
    "    resultados = {\n",
    "        \"Enzimas con corte\": enzimas_con_corte,\n",
    "        \"Enzimas sin corte\": enzimas_sin_corte,\n",
    "        \"Fragmentos\": fragmentos,\n",
    "        \"Número de fragmentos\": numero_fragmentos,\n",
    "        \"Tamaño de cada fragmento\": tamanos_fragmentos\n",
    "    }\n",
    "    \n",
    "    return resultados\n",
    "\n",
    "resultado_digestion = digestion(secuencia, enzR)\n",
    "print(resultado_digestion)\n"
   ]
  },
  {
   "cell_type": "markdown",
   "id": "cae3c937",
   "metadata": {},
   "source": [
    "#### 8.- Realiza una función que mediante la introducción de una secuencia de ADN devuelva lo siguiente: (2pto)\n",
    "1. La secuencia traducida de proteína\n",
    "2. La longitud de la secuencia de ADN original y la longitud de la secuencia de proteínas final\n",
    "3. El porcentaje de aminoácidos aromáticos (en conjunto y por separado)\n"
   ]
  },
  {
   "cell_type": "code",
   "execution_count": 271,
   "id": "10fc4dfa-9f1b-4dce-8456-4bf9dea9feaa",
   "metadata": {},
   "outputs": [
    {
     "name": "stdout",
     "output_type": "stream",
     "text": [
      "{'Secuencia de proteína': 'MLWTDCLTRLRQELSDNVFAMWIRPLVAEEVEGILRLYAPNPYWTRYIQENHLELISILAEQLSEGRVRQVEILVDSRPGSILSSSEQPATTTAALQTAPIPQPAKVKREPEPVANTAVSSKSSKKKLLNPQFTFSLFVEGRSNQMAAETCRKVLTQLGASQHNPLFLYGPTGLGKTHLMQAVGNALLQAKPNARVMYMTSESFVQDFVSSLQKGKVEEFKKNCRSLDLLLVDDIHLLAGKEASLVEFFYTFNALLDESKQIILTSDRYPKELTELDPRLVSRFSWGLSVGVEPPDIETRIEILLKKAENSGVDLPRNCALFIAQQVVANVRELEGALNKVVAISRFKGAPIDLDVVRESLKDVLAIRARTISVENIQRVVSEYFRIPLKELVGPKRTRIYARPRQLAMGLARELTGDSFPEIGMAFGGRDHSTVMHACEKVV', 'Longitud ADN': 1329, 'Longitud proteína': 443, 'Porcentaje total aromáticos': 6.772009029345373, 'Porcentaje de fenilalanina (F)': 3.837471783295711, 'Porcentaje de triptófano (W)': 0.9029345372460496, 'Porcentaje de tirosina (Y)': 2.0316027088036117}\n"
     ]
    }
   ],
   "source": [
    "\n",
    "def traduccion_proteina(secuencia):\n",
    "    \n",
    "    codon_dict = {\n",
    "        'TTT': 'F', 'TTC': 'F', 'TTA': 'L', 'TTG': 'L',\n",
    "        'TCT': 'S', 'TCC': 'S', 'TCA': 'S', 'TCG': 'S',\n",
    "        'TAT': 'Y', 'TAC': 'Y', 'TAA': '*', 'TAG': '*', \n",
    "        'TGT': 'C', 'TGC': 'C', 'TGA': '*', 'TGG': 'W',\n",
    "        'CTT': 'L', 'CTC': 'L', 'CTA': 'L', 'CTG': 'L',\n",
    "        'CCT': 'P', 'CCC': 'P', 'CCA': 'P', 'CCG': 'P',\n",
    "        'CAT': 'H', 'CAC': 'H', 'CAA': 'Q', 'CAG': 'Q',\n",
    "        'CGT': 'R', 'CGC': 'R', 'CGA': 'R', 'CGG': 'R',\n",
    "        'ATT': 'I', 'ATC': 'I', 'ATA': 'I', 'ATG': 'M',\n",
    "        'ACT': 'T', 'ACC': 'T', 'ACA': 'T', 'ACG': 'T',\n",
    "        'AAT': 'N', 'AAC': 'N', 'AAA': 'K', 'AAG': 'K',\n",
    "        'AGT': 'S', 'AGC': 'S', 'AGA': 'R', 'AGG': 'R',\n",
    "        'GTT': 'V', 'GTC': 'V', 'GTA': 'V', 'GTG': 'V',\n",
    "        'GCT': 'A', 'GCC': 'A', 'GCA': 'A', 'GCG': 'A',\n",
    "        'GAT': 'D', 'GAC': 'D', 'GAA': 'E', 'GAG': 'E',\n",
    "        'GGT': 'G', 'GGC': 'G', 'GGA': 'G', 'GGG': 'G'\n",
    "    }\n",
    "    \n",
    "   \n",
    "    aromaticos = {'F', 'W', 'Y'}\n",
    "    \n",
    "    secuencia_proteina = \"\"\n",
    "    for i in range(0, len(secuencia) - 2, 3): \n",
    "        codon = secuencia[i:i + 3]\n",
    "        aminoacido = codon_dict.get(codon, '')\n",
    "        if aminoacido == '*':  \n",
    "            break\n",
    "        secuencia_proteina += aminoacido\n",
    "\n",
    "    \n",
    "    longitud_adn = len(secuencia)\n",
    "    longitud_proteina = len(secuencia_proteina)\n",
    "\n",
    "    \n",
    "    total_aromaticos = sum(secuencia_proteina.count(aa) for aa in aromaticos)\n",
    "    porcentaje_total_aromaticos = (total_aromaticos / longitud_proteina) * 100 if longitud_proteina > 0 else 0\n",
    "    porcentaje_fenilalanina = (secuencia_proteina.count('F') / longitud_proteina) * 100 if longitud_proteina > 0 else 0\n",
    "    porcentaje_triptofano = (secuencia_proteina.count('W') / longitud_proteina) * 100 if longitud_proteina > 0 else 0\n",
    "    porcentaje_tirosina = (secuencia_proteina.count('Y') / longitud_proteina) * 100 if longitud_proteina > 0 else 0\n",
    "\n",
    "    \n",
    "    resultados = {\n",
    "        \"Secuencia de proteína\": secuencia_proteina,\n",
    "        \"Longitud ADN\": longitud_adn,\n",
    "        \"Longitud proteína\": longitud_proteina,\n",
    "        \"Porcentaje total aromáticos\": porcentaje_total_aromaticos,\n",
    "        \"Porcentaje de fenilalanina (F)\": porcentaje_fenilalanina,\n",
    "        \"Porcentaje de triptófano (W)\": porcentaje_triptofano,\n",
    "        \"Porcentaje de tirosina (Y)\": porcentaje_tirosina\n",
    "    }\n",
    "    \n",
    "    return resultados\n",
    "\n",
    "resultados = traduccion_proteina(secuencia)\n",
    "print(resultados)\n"
   ]
  }
 ],
 "metadata": {
  "kernelspec": {
   "display_name": "Python 3 (ipykernel)",
   "language": "python",
   "name": "python3"
  },
  "language_info": {
   "codemirror_mode": {
    "name": "ipython",
    "version": 3
   },
   "file_extension": ".py",
   "mimetype": "text/x-python",
   "name": "python",
   "nbconvert_exporter": "python",
   "pygments_lexer": "ipython3",
   "version": "3.12.4"
  }
 },
 "nbformat": 4,
 "nbformat_minor": 5
}
