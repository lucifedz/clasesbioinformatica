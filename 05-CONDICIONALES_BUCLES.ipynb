{
 "cells": [
  {
   "cell_type": "markdown",
   "id": "9e009697",
   "metadata": {},
   "source": [
    "###  IF, ELIF, ELSE"
   ]
  },
  {
   "cell_type": "code",
   "execution_count": 1,
   "id": "933a0413",
   "metadata": {},
   "outputs": [
    {
     "name": "stdout",
     "output_type": "stream",
     "text": [
      "It was true!\n"
     ]
    }
   ],
   "source": [
    "# Ten cuidado con las identaciones!!!!\n",
    "if True:\n",
    "        print('It was true!')"
   ]
  },
  {
   "cell_type": "code",
   "execution_count": 5,
   "id": "45f91505-6aad-4e38-a629-5911cbbab326",
   "metadata": {},
   "outputs": [
    {
     "name": "stdout",
     "output_type": "stream",
     "text": [
      "hola\n"
     ]
    }
   ],
   "source": [
    "if True:\n",
    "    print(\"hola\")"
   ]
  },
  {
   "cell_type": "code",
   "execution_count": 7,
   "id": "2ae90f74",
   "metadata": {
    "scrolled": true
   },
   "outputs": [
    {
     "name": "stdout",
     "output_type": "stream",
     "text": [
      "x was True!\n"
     ]
    }
   ],
   "source": [
    "x = True\n",
    "\n",
    "if x:\n",
    "        print('x was True!')\n",
    "else:\n",
    "        print('I will be printed in any case where x is not true')"
   ]
  },
  {
   "cell_type": "code",
   "execution_count": 13,
   "id": "eeff67ea",
   "metadata": {},
   "outputs": [
    {
     "name": "stdout",
     "output_type": "stream",
     "text": [
      "Welcome to the Auto Shop!\n"
     ]
    }
   ],
   "source": [
    "loc = \"Auto Shop\"\n",
    "\n",
    "if loc == 'Auto Shop':print('Welcome to the Auto Shop!')\n",
    "elif loc == 'Bank':\n",
    "    print('Welcome to the bank!')\n",
    "elif loc == 'gato':\n",
    "    print('hola')\n",
    "else:\n",
    "    print('Where are you?')"
   ]
  },
  {
   "cell_type": "code",
   "execution_count": 21,
   "id": "9578d0b2",
   "metadata": {
    "scrolled": true
   },
   "outputs": [
    {
     "name": "stdout",
     "output_type": "stream",
     "text": [
      "Welcome, what's your name?\n"
     ]
    }
   ],
   "source": [
    "person = 53\n",
    "\n",
    "if person <= 50 and person >= 1:\n",
    "    print('Welcome Sammy!')\n",
    "else:\n",
    "    print(\"Welcome, what's your name?\")"
   ]
  },
  {
   "cell_type": "code",
   "execution_count": null,
   "id": "7328736a",
   "metadata": {
    "scrolled": true
   },
   "outputs": [],
   "source": [
    "person = 'George'\n",
    "\n",
    "if person == 'Sammy':\n",
    "    print('Welcome Sammy!')\n",
    "elif person =='George':\n",
    "    print('Welcome George!')\n",
    "else:\n",
    "    print(\"Welcome, what's your name?\")"
   ]
  },
  {
   "cell_type": "markdown",
   "id": "44a9c158",
   "metadata": {},
   "source": [
    "### FOR LOOPS"
   ]
  },
  {
   "cell_type": "code",
   "execution_count": 23,
   "id": "76c4dab2",
   "metadata": {},
   "outputs": [
    {
     "name": "stdout",
     "output_type": "stream",
     "text": [
      "1\n",
      "2\n",
      "3\n",
      "4\n",
      "5\n",
      "6\n",
      "7\n",
      "8\n",
      "9\n",
      "10\n"
     ]
    }
   ],
   "source": [
    "list1 = [1,2,3,4,5,6,7,8,9,10]\n",
    "for elemento in list1:\n",
    "    print(elemento)"
   ]
  },
  {
   "cell_type": "code",
   "execution_count": null,
   "id": "b30ecf80",
   "metadata": {},
   "outputs": [],
   "source": [
    "num"
   ]
  },
  {
   "cell_type": "code",
   "execution_count": 25,
   "id": "8980618d",
   "metadata": {
    "scrolled": true
   },
   "outputs": [
    {
     "name": "stdout",
     "output_type": "stream",
     "text": [
      "1\n",
      "3\n",
      "5\n",
      "7\n",
      "9\n"
     ]
    }
   ],
   "source": [
    "# Solo ponemos los impares \n",
    "# si el resto del numero dividido entre dos es igual a 0\n",
    "for num in list1:\n",
    "    if num % 2 != 0:\n",
    "        print(num)"
   ]
  },
  {
   "cell_type": "code",
   "execution_count": 27,
   "id": "2e69b73d",
   "metadata": {},
   "outputs": [
    {
     "name": "stdout",
     "output_type": "stream",
     "text": [
      "Odd number\n",
      "2\n",
      "Odd number\n",
      "4\n",
      "Odd number\n",
      "6\n",
      "Odd number\n",
      "8\n",
      "Odd number\n",
      "10\n"
     ]
    }
   ],
   "source": [
    "for num in list1:\n",
    "    if num % 2 == 0:\n",
    "        print(num)\n",
    "    else:\n",
    "        print('Odd number')\n",
    "# si no es numero par, se imprime la frase odd number en su lugar"
   ]
  },
  {
   "cell_type": "code",
   "execution_count": 29,
   "id": "2cacced6",
   "metadata": {
    "scrolled": true
   },
   "outputs": [
    {
     "name": "stdout",
     "output_type": "stream",
     "text": [
      "1\n",
      "3\n",
      "6\n",
      "10\n",
      "15\n",
      "21\n",
      "28\n",
      "36\n",
      "45\n",
      "55\n",
      "55\n"
     ]
    }
   ],
   "source": [
    "# Este bucle suma los elmentos de la lista\n",
    "# Comienza la suma en 0\n",
    "list_sum = 0 \n",
    "\n",
    "for num in list1:\n",
    "    list_sum = list_sum + num\n",
    "    print(list_sum)\n",
    "\n",
    "print(list_sum)"
   ]
  },
  {
   "cell_type": "code",
   "execution_count": 31,
   "id": "f20da9ab",
   "metadata": {},
   "outputs": [
    {
     "data": {
      "text/plain": [
       "[1, 2, 3, 4, 5, 6, 7, 8, 9, 10]"
      ]
     },
     "execution_count": 31,
     "metadata": {},
     "output_type": "execute_result"
    }
   ],
   "source": [
    "list1"
   ]
  },
  {
   "cell_type": "code",
   "execution_count": 33,
   "id": "a3a98420",
   "metadata": {},
   "outputs": [
    {
     "name": "stdout",
     "output_type": "stream",
     "text": [
      "55\n"
     ]
    }
   ],
   "source": [
    "# Una variación\n",
    "list_sum = 0 \n",
    "\n",
    "for num in list1:\n",
    "    list_sum += num\n",
    "\n",
    "print(list_sum)"
   ]
  },
  {
   "cell_type": "code",
   "execution_count": 35,
   "id": "40dcacc4",
   "metadata": {},
   "outputs": [
    {
     "name": "stdout",
     "output_type": "stream",
     "text": [
      "T\n",
      "h\n",
      "i\n",
      "s\n",
      " \n",
      "i\n",
      "s\n",
      " \n",
      "a\n",
      " \n",
      "s\n",
      "t\n",
      "r\n",
      "i\n",
      "n\n",
      "g\n",
      ".\n"
     ]
    }
   ],
   "source": [
    "# También podemos iterar strings\n",
    "for letter in 'This is a string.':\n",
    "    print(letter)"
   ]
  },
  {
   "cell_type": "code",
   "execution_count": 37,
   "id": "5c51317e",
   "metadata": {},
   "outputs": [
    {
     "name": "stdout",
     "output_type": "stream",
     "text": [
      "1\n",
      "2\n",
      "3\n",
      "4\n",
      "5\n"
     ]
    }
   ],
   "source": [
    "# También iteramos tuplas\n",
    "tup = (1,2,3,4,5)\n",
    "\n",
    "for t in tup:\n",
    "    print(t)"
   ]
  },
  {
   "cell_type": "code",
   "execution_count": 39,
   "id": "d9ea64bc",
   "metadata": {},
   "outputs": [
    {
     "name": "stdout",
     "output_type": "stream",
     "text": [
      "(2, 4)\n",
      "(6, 8)\n",
      "(10, 12)\n"
     ]
    }
   ],
   "source": [
    "# ¿Y si tenemos tuplas dentro de listas?\n",
    "list2 = [(2,4),(6,8),(10,12)]\n",
    "for tup in list2:\n",
    "    print(tup)"
   ]
  },
  {
   "cell_type": "code",
   "execution_count": 41,
   "id": "eea3fc08",
   "metadata": {},
   "outputs": [
    {
     "name": "stdout",
     "output_type": "stream",
     "text": [
      "2\n",
      "6\n",
      "10\n"
     ]
    }
   ],
   "source": [
    "# Aquí desglosamos cada tupla\n",
    "for (t1,t2) in list2:\n",
    "    print(t1)"
   ]
  },
  {
   "cell_type": "code",
   "execution_count": 43,
   "id": "f2796ecf",
   "metadata": {
    "scrolled": true
   },
   "outputs": [
    {
     "name": "stdout",
     "output_type": "stream",
     "text": [
      "k1\n",
      "k2\n",
      "k3\n"
     ]
    }
   ],
   "source": [
    "# Ahora vamos a por los diccionarios\n",
    "d = {'k1':1,'k2':2,'k3':3}\n",
    "for item in d:\n",
    "    print(item)"
   ]
  },
  {
   "cell_type": "code",
   "execution_count": 45,
   "id": "6c4f4196",
   "metadata": {},
   "outputs": [
    {
     "name": "stdout",
     "output_type": "stream",
     "text": [
      "k1\n",
      "1\n",
      "k2\n",
      "2\n",
      "k3\n",
      "3\n"
     ]
    }
   ],
   "source": [
    "# Fíjate que en el anterior solamente nos muestra las keys, pero nosotros también queremos ver los valores\n",
    "for k,i in d.items():\n",
    "        print(k)\n",
    "        print(i)"
   ]
  },
  {
   "cell_type": "code",
   "execution_count": 47,
   "id": "cd237b8d",
   "metadata": {},
   "outputs": [
    {
     "data": {
      "text/plain": [
       "['k1', 'k2', 'k3']"
      ]
     },
     "execution_count": 47,
     "metadata": {},
     "output_type": "execute_result"
    }
   ],
   "source": [
    "# Como dato curioso, podemos obtener una lista de las keys o de los items de esta forma\n",
    "list(d.keys())"
   ]
  },
  {
   "cell_type": "code",
   "execution_count": null,
   "id": "e727b98f",
   "metadata": {},
   "outputs": [],
   "source": [
    "# También podemos ordenar los valores del diccionario!!!! Pero no dentro del diccionario, si no fuera de él.\n",
    "# Recuerda que los diccionarios son desordenados en sí mismos de forma arbitraria\n",
    "sorted(d.values())"
   ]
  },
  {
   "cell_type": "markdown",
   "id": "422c283b",
   "metadata": {},
   "source": [
    "### WHILE LOOPS"
   ]
  },
  {
   "cell_type": "code",
   "execution_count": 49,
   "id": "29508f8b",
   "metadata": {
    "scrolled": true
   },
   "outputs": [
    {
     "name": "stdout",
     "output_type": "stream",
     "text": [
      "x is currently:  0\n",
      " x is still less than 10, adding 1 to x\n",
      "x is currently:  1\n",
      " x is still less than 10, adding 1 to x\n",
      "x is currently:  2\n",
      " x is still less than 10, adding 1 to x\n",
      "x is currently:  3\n",
      " x is still less than 10, adding 1 to x\n",
      "x is currently:  4\n",
      " x is still less than 10, adding 1 to x\n",
      "x is currently:  5\n",
      " x is still less than 10, adding 1 to x\n",
      "x is currently:  6\n",
      " x is still less than 10, adding 1 to x\n",
      "x is currently:  7\n",
      " x is still less than 10, adding 1 to x\n",
      "x is currently:  8\n",
      " x is still less than 10, adding 1 to x\n",
      "x is currently:  9\n",
      " x is still less than 10, adding 1 to x\n"
     ]
    }
   ],
   "source": [
    "x = 0\n",
    "\n",
    "while x < 10:\n",
    "    print('x is currently: ',x)\n",
    "    print(' x is still less than 10, adding 1 to x')\n",
    "    x+=1"
   ]
  },
  {
   "cell_type": "code",
   "execution_count": 51,
   "id": "a1f59c70",
   "metadata": {
    "scrolled": true
   },
   "outputs": [
    {
     "name": "stdout",
     "output_type": "stream",
     "text": [
      "x is currently:  0\n",
      " x is still less than 10, adding 1 to x\n",
      "x is currently:  1\n",
      " x is still less than 10, adding 1 to x\n",
      "x is currently:  2\n",
      " x is still less than 10, adding 1 to x\n",
      "x is currently:  3\n",
      " x is still less than 10, adding 1 to x\n",
      "x is currently:  4\n",
      " x is still less than 10, adding 1 to x\n",
      "x is currently:  5\n",
      " x is still less than 10, adding 1 to x\n",
      "x is currently:  6\n",
      " x is still less than 10, adding 1 to x\n",
      "x is currently:  7\n",
      " x is still less than 10, adding 1 to x\n",
      "x is currently:  8\n",
      " x is still less than 10, adding 1 to x\n",
      "x is currently:  9\n",
      " x is still less than 10, adding 1 to x\n",
      "All Done!\n"
     ]
    }
   ],
   "source": [
    "x = 0\n",
    "\n",
    "while x < 10:\n",
    "    print('x is currently: ',x)\n",
    "    print(' x is still less than 10, adding 1 to x')\n",
    "    x+=1\n",
    "    \n",
    "else:\n",
    "    print('All Done!')"
   ]
  },
  {
   "cell_type": "markdown",
   "id": "57b1f1b4",
   "metadata": {},
   "source": [
    "### BREAK, CONTINUE, PASS"
   ]
  },
  {
   "cell_type": "markdown",
   "id": "9d0b92d2",
   "metadata": {},
   "source": [
    "**Break** sale del bucle más inmediato.\n",
    "**Continue** vuelve al inicio del bucle más inmediato.\n",
    "**Pass** no hace niguna acción."
   ]
  },
  {
   "cell_type": "code",
   "execution_count": 53,
   "id": "0181abc0",
   "metadata": {},
   "outputs": [
    {
     "name": "stdout",
     "output_type": "stream",
     "text": [
      "x is currently:  0\n",
      " x is still less than 10, adding 1 to x\n",
      "continuing...\n",
      "x is currently:  1\n",
      " x is still less than 10, adding 1 to x\n",
      "continuing...\n",
      "x is currently:  2\n",
      " x is still less than 10, adding 1 to x\n",
      "x==3\n",
      "x is currently:  3\n",
      " x is still less than 10, adding 1 to x\n",
      "continuing...\n",
      "x is currently:  4\n",
      " x is still less than 10, adding 1 to x\n",
      "continuing...\n",
      "x is currently:  5\n",
      " x is still less than 10, adding 1 to x\n",
      "continuing...\n",
      "x is currently:  6\n",
      " x is still less than 10, adding 1 to x\n",
      "continuing...\n",
      "x is currently:  7\n",
      " x is still less than 10, adding 1 to x\n",
      "continuing...\n",
      "x is currently:  8\n",
      " x is still less than 10, adding 1 to x\n",
      "continuing...\n",
      "x is currently:  9\n",
      " x is still less than 10, adding 1 to x\n",
      "continuing...\n"
     ]
    }
   ],
   "source": [
    "x = 0\n",
    "\n",
    "while x < 10:\n",
    "    print('x is currently: ',x)\n",
    "    print(' x is still less than 10, adding 1 to x')\n",
    "    x+=1\n",
    "    if x==3:\n",
    "        print('x==3')\n",
    "    else:\n",
    "        print('continuing...')\n",
    "        continue"
   ]
  },
  {
   "cell_type": "code",
   "execution_count": 55,
   "id": "bb916abb",
   "metadata": {},
   "outputs": [
    {
     "name": "stdout",
     "output_type": "stream",
     "text": [
      "x is currently:  0\n",
      " x is still less than 10, adding 1 to x\n",
      "continuing...\n",
      "x is currently:  1\n",
      " x is still less than 10, adding 1 to x\n",
      "continuing...\n",
      "x is currently:  2\n",
      " x is still less than 10, adding 1 to x\n",
      "Breaking because x==3\n"
     ]
    }
   ],
   "source": [
    "x = 0\n",
    "\n",
    "while x < 10:\n",
    "    print('x is currently: ',x)\n",
    "    print(' x is still less than 10, adding 1 to x')\n",
    "    x+=1\n",
    "    if x==3:\n",
    "        print('Breaking because x==3')\n",
    "        break\n",
    "    else:\n",
    "        print('continuing...')\n",
    "        continue"
   ]
  },
  {
   "cell_type": "code",
   "execution_count": null,
   "id": "c240e84c",
   "metadata": {},
   "outputs": [],
   "source": [
    "# ¿Quieres petar tu ordenador? Corre esto. Para salir de aquí tendrás que pulsar en Kernel y restart. \n",
    "# Ctrl(Cmd)+C o Esc suele funcionar en la consola\n",
    "#while True:\n",
    "#    print(\"I'm stuck in an infinite loop!\")"
   ]
  },
  {
   "cell_type": "code",
   "execution_count": 121,
   "id": "5749bbdd-0800-4391-8a26-8b9bce57073d",
   "metadata": {},
   "outputs": [
    {
     "name": "stdout",
     "output_type": "stream",
     "text": [
      "este es el valor final del contador 0\n",
      "['huevo', 'pan', 'leche', 'azucar', 'cafe']\n",
      "['huevo', 'pan', 'leche', 'azucar', 'cafe', 'tomate']\n",
      "['huevo', 'pan', 'leche', 'azucar', 'cafe', 'tomate', 'tomate']\n",
      "['huevo', 'pan', 'leche', 'azucar', 'cafe', 'tomate', 'tomate', 'tomate']\n",
      "['huevo', 'pan', 'leche', 'azucar', 'cafe', 'tomate', 'tomate', 'tomate', 'tomate']\n",
      "['huevo', 'pan', 'leche', 'azucar', 'cafe', 'tomate', 'tomate', 'tomate', 'tomate', 'tomate']\n",
      "['huevo', 'pan', 'leche', 'azucar', 'cafe', 'tomate', 'tomate', 'tomate', 'tomate', 'tomate', 'tomate']\n"
     ]
    }
   ],
   "source": [
    "lista_prueba = [\"huevo\",\"pan\",\"leche\",\"azucar\",\"cafe\"]\n",
    "count=0\n",
    "#for i in lista_prueba:\n",
    "  #  print(i)\n",
    "   # count += 1\n",
    "   # print (count)\n",
    "print(f\"este es el valor final del contador {count}\")\n",
    "count2 = 0\n",
    "while condicion:\n",
    "    print(lista_prueba)\n",
    "    lista_prueba.append(\"tomate\")\n",
    "    count2 += 1\n",
    "    if count2 == 7:\n",
    "        condicion=False\n",
    "        "
   ]
  },
  {
   "cell_type": "markdown",
   "id": "693b98ef",
   "metadata": {},
   "source": [
    "### Range"
   ]
  },
  {
   "cell_type": "code",
   "execution_count": 69,
   "id": "fa5e431d",
   "metadata": {},
   "outputs": [
    {
     "data": {
      "text/plain": [
       "[0, 1, 2, 3, 4, 5, 6, 7, 8, 9, 10]"
      ]
     },
     "execution_count": 69,
     "metadata": {},
     "output_type": "execute_result"
    }
   ],
   "source": [
    "# Genera una lista muy rápida de números enteros.\n",
    "# Range() tiene tres argumentos, el inicio, el final y el paso. Fíjate en los índices del final\n",
    "list(range(0,11))"
   ]
  },
  {
   "cell_type": "code",
   "execution_count": 71,
   "id": "fd654932",
   "metadata": {},
   "outputs": [
    {
     "data": {
      "text/plain": [
       "[2, 3, 4, 5, 6, 7, 8, 9]"
      ]
     },
     "execution_count": 71,
     "metadata": {},
     "output_type": "execute_result"
    }
   ],
   "source": [
    "list(range(2,10))"
   ]
  },
  {
   "cell_type": "code",
   "execution_count": 73,
   "id": "04ef3a8e",
   "metadata": {},
   "outputs": [
    {
     "data": {
      "text/plain": [
       "[0, 10, 20, 30, 40, 50, 60, 70, 80, 90, 100]"
      ]
     },
     "execution_count": 73,
     "metadata": {},
     "output_type": "execute_result"
    }
   ],
   "source": [
    "list(range(0,101,10))"
   ]
  },
  {
   "cell_type": "code",
   "execution_count": 75,
   "id": "3ae0d1a6",
   "metadata": {},
   "outputs": [
    {
     "data": {
      "text/plain": [
       "range(0, 101, 10)"
      ]
     },
     "execution_count": 75,
     "metadata": {},
     "output_type": "execute_result"
    }
   ],
   "source": [
    "range(0,101,10)"
   ]
  },
  {
   "cell_type": "markdown",
   "id": "c54ba192",
   "metadata": {},
   "source": [
    "### Enumerate"
   ]
  },
  {
   "cell_type": "code",
   "execution_count": 77,
   "id": "ca413708",
   "metadata": {},
   "outputs": [
    {
     "name": "stdout",
     "output_type": "stream",
     "text": [
      "At index 0 the letter is a\n",
      "At index 1 the letter is b\n",
      "At index 2 the letter is c\n",
      "At index 3 the letter is d\n",
      "At index 4 the letter is e\n"
     ]
    }
   ],
   "source": [
    "# Se usa sobre todo para los bucles for\n",
    "index_count = 0\n",
    "\n",
    "for letter in 'abcde':\n",
    "    print(\"At index {} the letter is {}\".format(index_count,letter))\n",
    "    index_count += 1"
   ]
  },
  {
   "cell_type": "code",
   "execution_count": 79,
   "id": "f7ce453d",
   "metadata": {},
   "outputs": [
    {
     "name": "stdout",
     "output_type": "stream",
     "text": [
      "At index 0 the letter is  a\n",
      "At index 1 the letter is  b\n",
      "At index 2 the letter is  c\n",
      "At index 3 the letter is  d\n",
      "At index 4 the letter is  e\n"
     ]
    }
   ],
   "source": [
    "for i,letter in enumerate('abcde'):\n",
    "    #print(\"At index {} the letter is {}\".format(i,letter))\n",
    "    print(f\"At index {i} the letter is  {letter}\")"
   ]
  },
  {
   "cell_type": "markdown",
   "id": "299d6710",
   "metadata": {},
   "source": [
    "### In"
   ]
  },
  {
   "cell_type": "code",
   "execution_count": 85,
   "id": "14b678dd",
   "metadata": {},
   "outputs": [
    {
     "data": {
      "text/plain": [
       "True"
      ]
     },
     "execution_count": 85,
     "metadata": {},
     "output_type": "execute_result"
    }
   ],
   "source": [
    "'x' in ['x','y','z']"
   ]
  },
  {
   "cell_type": "code",
   "execution_count": 83,
   "id": "ba5ae064",
   "metadata": {},
   "outputs": [
    {
     "data": {
      "text/plain": [
       "False"
      ]
     },
     "execution_count": 83,
     "metadata": {},
     "output_type": "execute_result"
    }
   ],
   "source": [
    "'x' in [1,2,3]"
   ]
  },
  {
   "cell_type": "markdown",
   "id": "e586cccf",
   "metadata": {},
   "source": [
    "### Not in"
   ]
  },
  {
   "cell_type": "code",
   "execution_count": 87,
   "id": "238a292d",
   "metadata": {
    "scrolled": true
   },
   "outputs": [
    {
     "data": {
      "text/plain": [
       "False"
      ]
     },
     "execution_count": 87,
     "metadata": {},
     "output_type": "execute_result"
    }
   ],
   "source": [
    "'x' not in ['x','y','z']"
   ]
  },
  {
   "cell_type": "code",
   "execution_count": 89,
   "id": "67d430a6",
   "metadata": {},
   "outputs": [
    {
     "data": {
      "text/plain": [
       "True"
      ]
     },
     "execution_count": 89,
     "metadata": {},
     "output_type": "execute_result"
    }
   ],
   "source": [
    "'x' not in [1,2,3]"
   ]
  },
  {
   "cell_type": "markdown",
   "id": "c4f38285",
   "metadata": {},
   "source": [
    "### Min, max"
   ]
  },
  {
   "cell_type": "code",
   "execution_count": 91,
   "id": "e533e97a",
   "metadata": {},
   "outputs": [
    {
     "data": {
      "text/plain": [
       "10"
      ]
     },
     "execution_count": 91,
     "metadata": {},
     "output_type": "execute_result"
    }
   ],
   "source": [
    "mylist = [10,20,30,40,100]\n",
    "min(mylist)"
   ]
  },
  {
   "cell_type": "code",
   "execution_count": 93,
   "id": "76651fae",
   "metadata": {},
   "outputs": [
    {
     "data": {
      "text/plain": [
       "100"
      ]
     },
     "execution_count": 93,
     "metadata": {},
     "output_type": "execute_result"
    }
   ],
   "source": [
    "max(mylist)"
   ]
  },
  {
   "cell_type": "markdown",
   "id": "ffda0722",
   "metadata": {},
   "source": [
    "### Random"
   ]
  },
  {
   "cell_type": "code",
   "execution_count": 95,
   "id": "a87e5cc6",
   "metadata": {},
   "outputs": [
    {
     "data": {
      "text/plain": [
       "[20, 30, 100, 10, 40]"
      ]
     },
     "execution_count": 95,
     "metadata": {},
     "output_type": "execute_result"
    }
   ],
   "source": [
    "# Aquí vamos a importar shuffle que viene con la librería random. \n",
    "# Digamos que sirve para descolocar una lista\n",
    "from random import shuffle\n",
    "shuffle(mylist)\n",
    "mylist"
   ]
  },
  {
   "cell_type": "code",
   "execution_count": 109,
   "id": "0e74ce27",
   "metadata": {},
   "outputs": [
    {
     "data": {
      "text/plain": [
       "1"
      ]
     },
     "execution_count": 109,
     "metadata": {},
     "output_type": "execute_result"
    }
   ],
   "source": [
    "# Otra función es randint que nos genera un número entero aleatorio entre a y b, incluyendo tanto a a como a b\n",
    "from random import randint\n",
    "randint(0,100)"
   ]
  },
  {
   "cell_type": "markdown",
   "id": "68e2315f",
   "metadata": {},
   "source": [
    "### Input"
   ]
  },
  {
   "cell_type": "code",
   "execution_count": 113,
   "id": "e9a1b684",
   "metadata": {},
   "outputs": [
    {
     "name": "stdin",
     "output_type": "stream",
     "text": [
      "Pon algo aquí:  guau\n"
     ]
    },
    {
     "data": {
      "text/plain": [
       "'guau'"
      ]
     },
     "execution_count": 113,
     "metadata": {},
     "output_type": "execute_result"
    }
   ],
   "source": [
    "input('Pon algo aquí: ')"
   ]
  },
  {
   "cell_type": "markdown",
   "id": "70a24624",
   "metadata": {},
   "source": [
    "# EJERCICIOS"
   ]
  },
  {
   "cell_type": "markdown",
   "id": "ba7edaf2",
   "metadata": {},
   "source": [
    "#### 1.- Emplea for, split() e if para crear un código que imprima todas las palabras que empiecen por 's'."
   ]
  },
  {
   "cell_type": "code",
   "execution_count": 123,
   "id": "f0683703",
   "metadata": {},
   "outputs": [],
   "source": [
    "st = 'Print only the words that start with w in this sentence'"
   ]
  },
  {
   "cell_type": "code",
   "execution_count": 127,
   "id": "ac5868a9",
   "metadata": {},
   "outputs": [
    {
     "name": "stdout",
     "output_type": "stream",
     "text": [
      "words\n",
      "with\n"
     ]
    }
   ],
   "source": [
    "for palabra in st.split():\n",
    "    if palabra[0] == 'w':\n",
    "        print(palabra)"
   ]
  },
  {
   "cell_type": "markdown",
   "id": "a51e8a31",
   "metadata": {},
   "source": [
    "#### 2.- Usa range() para hacer una lista con todos los números pares del 0 al 10"
   ]
  },
  {
   "cell_type": "code",
   "execution_count": 135,
   "id": "f7ff1cb8",
   "metadata": {},
   "outputs": [
    {
     "data": {
      "text/plain": [
       "[0, 2, 4, 6, 8, 10]"
      ]
     },
     "execution_count": 135,
     "metadata": {},
     "output_type": "execute_result"
    }
   ],
   "source": [
    "lista_pares = []\n",
    "for i in range(0,11):\n",
    "    if i%2 ==0:\n",
    "        lista_pares.append(i)\n",
    "lista_pares"
   ]
  },
  {
   "cell_type": "code",
   "execution_count": 137,
   "id": "ab3b7330-6ddc-407b-9b75-a5ccec7a375a",
   "metadata": {},
   "outputs": [
    {
     "data": {
      "text/plain": [
       "[0, 2, 4, 6, 8, 10]"
      ]
     },
     "execution_count": 137,
     "metadata": {},
     "output_type": "execute_result"
    }
   ],
   "source": [
    "list(range(0,11,2))"
   ]
  },
  {
   "cell_type": "markdown",
   "id": "5a18ad79",
   "metadata": {},
   "source": [
    "#### 3.- Recorre la siguiente string e imprime  solo las palabras que tengan una longitud par"
   ]
  },
  {
   "cell_type": "code",
   "execution_count": 141,
   "id": "45977e3a",
   "metadata": {},
   "outputs": [],
   "source": [
    "st = 'Print every word in this sentence that has an even number of letters'"
   ]
  },
  {
   "cell_type": "code",
   "execution_count": 143,
   "id": "fde5d37d",
   "metadata": {},
   "outputs": [
    {
     "name": "stdout",
     "output_type": "stream",
     "text": [
      "word tiene longitud par\n",
      "in tiene longitud par\n",
      "this tiene longitud par\n",
      "sentence tiene longitud par\n",
      "that tiene longitud par\n",
      "an tiene longitud par\n",
      "even tiene longitud par\n",
      "number tiene longitud par\n",
      "of tiene longitud par\n"
     ]
    }
   ],
   "source": [
    "for palabra in st.split():\n",
    "    if len(palabra)%2 == 0:\n",
    "        print(f'{palabra} tiene longitud par')"
   ]
  },
  {
   "cell_type": "markdown",
   "id": "d9c76b41",
   "metadata": {},
   "source": [
    "#### 4.- Escribe un pequeño algoritmo que imprima los enteros del 1 al 100. \n",
    "#### Para múltiplos de 3 escribe 'Fizz' en lugar del número\n",
    "#### Para múltiplos de 5 escribe 'Buzz'\n",
    "#### Para los que sean múltiplos de 3 y de 5 escribe 'FizzBuzz'"
   ]
  },
  {
   "cell_type": "code",
   "execution_count": 149,
   "id": "dd4eb2b7",
   "metadata": {},
   "outputs": [
    {
     "name": "stdout",
     "output_type": "stream",
     "text": [
      "FizzBuzz\n",
      "1\n",
      "Fizz\n",
      "3\n",
      "Fizz\n",
      "5\n",
      "Fizz\n",
      "Buzz\n",
      "Fizz\n",
      "9\n",
      "Fizz\n",
      "11\n",
      "Fizz\n",
      "13\n",
      "FizzBuzz\n",
      "15\n",
      "Fizz\n",
      "17\n",
      "Fizz\n",
      "19\n",
      "Fizz\n",
      "Buzz\n",
      "Fizz\n",
      "23\n",
      "Fizz\n",
      "25\n",
      "Fizz\n",
      "27\n",
      "FizzBuzz\n",
      "29\n",
      "Fizz\n",
      "31\n",
      "Fizz\n",
      "33\n",
      "Fizz\n",
      "Buzz\n",
      "Fizz\n",
      "37\n",
      "Fizz\n",
      "39\n",
      "Fizz\n",
      "41\n",
      "FizzBuzz\n",
      "43\n",
      "Fizz\n",
      "45\n",
      "Fizz\n",
      "47\n",
      "Fizz\n",
      "Buzz\n",
      "Fizz\n",
      "51\n",
      "Fizz\n",
      "53\n",
      "Fizz\n",
      "55\n",
      "FizzBuzz\n",
      "57\n",
      "Fizz\n",
      "59\n",
      "Fizz\n",
      "61\n",
      "Fizz\n",
      "Buzz\n",
      "Fizz\n",
      "65\n",
      "Fizz\n",
      "67\n",
      "Fizz\n",
      "69\n",
      "FizzBuzz\n",
      "71\n",
      "Fizz\n",
      "73\n",
      "Fizz\n",
      "75\n",
      "Fizz\n",
      "Buzz\n",
      "Fizz\n",
      "79\n",
      "Fizz\n",
      "81\n",
      "Fizz\n",
      "83\n",
      "FizzBuzz\n",
      "85\n",
      "Fizz\n",
      "87\n",
      "Fizz\n",
      "89\n",
      "Fizz\n",
      "Buzz\n",
      "Fizz\n",
      "93\n",
      "Fizz\n",
      "95\n",
      "Fizz\n",
      "97\n",
      "FizzBuzz\n",
      "99\n",
      "Fizz\n",
      "101\n",
      "Fizz\n",
      "103\n",
      "Fizz\n",
      "Buzz\n",
      "Fizz\n",
      "107\n",
      "Fizz\n",
      "109\n",
      "Fizz\n"
     ]
    }
   ],
   "source": [
    "for num in range(0,111):\n",
    "    if num%2 == 0 and num%7 == 0:\n",
    "        print(\"FizzBuzz\")\n",
    "    elif num%2==0:\n",
    "        print(\"Fizz\")\n",
    "    elif num%7==0:\n",
    "        print(\"Buzz\")\n",
    "    else:\n",
    "        print(num)"
   ]
  }
 ],
 "metadata": {
  "kernelspec": {
   "display_name": "Python 3 (ipykernel)",
   "language": "python",
   "name": "python3"
  },
  "language_info": {
   "codemirror_mode": {
    "name": "ipython",
    "version": 3
   },
   "file_extension": ".py",
   "mimetype": "text/x-python",
   "name": "python",
   "nbconvert_exporter": "python",
   "pygments_lexer": "ipython3",
   "version": "3.12.4"
  }
 },
 "nbformat": 4,
 "nbformat_minor": 5
}
